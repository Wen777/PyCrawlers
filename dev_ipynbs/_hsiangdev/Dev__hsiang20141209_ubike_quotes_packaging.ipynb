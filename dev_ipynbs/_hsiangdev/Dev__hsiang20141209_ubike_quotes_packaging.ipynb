{
 "metadata": {
  "name": "",
  "signature": "sha256:b8d8ba5c6dfc3c246929251710e01546ae7f49698a7f78ab3786b46ad664c293"
 },
 "nbformat": 3,
 "nbformat_minor": 0,
 "worksheets": [
  {
   "cells": [
    {
     "cell_type": "markdown",
     "metadata": {},
     "source": [
      "# ubike crawler\n",
      "\n",
      "## set enviroment\n",
      "```\n",
      "$  mongod --dbpath [YOUR DB LOCATON] --port [DB PORT, default is 27017]\n",
      "\n",
      "```"
     ]
    },
    {
     "cell_type": "code",
     "collapsed": false,
     "input": [
      "import pandas as pd\n",
      "from pymongo import MongoClient\n",
      "from pandas.io.parsers import StringIO\n",
      "import requests\n",
      "import json\n",
      "import time\n",
      "import random"
     ],
     "language": "python",
     "metadata": {},
     "outputs": [],
     "prompt_number": 1
    },
    {
     "cell_type": "code",
     "collapsed": false,
     "input": [
      "def setMongo():\n",
      "    client = MongoClient('mongodb://localhost:27017/')\n",
      "    db = client.ubikeSpide\n",
      "    ubike = db.ubike\n",
      "#     collection = db['ubike']\n",
      "    return db, ubike"
     ],
     "language": "python",
     "metadata": {},
     "outputs": [],
     "prompt_number": 2
    },
    {
     "cell_type": "code",
     "collapsed": false,
     "input": [
      "db, ubike = setMongo()"
     ],
     "language": "python",
     "metadata": {},
     "outputs": [],
     "prompt_number": 3
    },
    {
     "cell_type": "code",
     "collapsed": false,
     "input": [
      "def queryFunc(ubike):\n",
      "    for i in range(0,2):\n",
      "        res = requests.get(\"http://opendata.dot.taipei.gov.tw/opendata/gwjs_cityhall.json\")\n",
      "        rjson = res.json()\n",
      "        for i in rjson[\"retVal\"]:\n",
      "            ubike.insert(i)\n",
      "        del res\n",
      "        del rjson\n",
      "        time.sleep(300)"
     ],
     "language": "python",
     "metadata": {},
     "outputs": [],
     "prompt_number": 4
    },
    {
     "cell_type": "code",
     "collapsed": false,
     "input": [
      "queryFunc(ubike)"
     ],
     "language": "python",
     "metadata": {},
     "outputs": [],
     "prompt_number": 5
    },
    {
     "cell_type": "code",
     "collapsed": false,
     "input": [
      "def checkDB(ubike):\n",
      "    print ubike.find_one()"
     ],
     "language": "python",
     "metadata": {},
     "outputs": [],
     "prompt_number": 24
    },
    {
     "cell_type": "code",
     "collapsed": false,
     "input": [
      "checkDB(ubike)"
     ],
     "language": "python",
     "metadata": {},
     "outputs": [
      {
       "output_type": "stream",
       "stream": "stdout",
       "text": [
        "{u'sbi': u'2', u'sip': u'', u'lat': u'25.025896', u'vtyp': u'1', u'sareaen': u'Daan Dist.', u'sna': u'\\u6377\\u904b\\u79d1\\u6280\\u5927\\u6a13\\u7ad9', u'aren': u'No.235, Sec. 2, Fusing S. Rd.', u'sno': u'0020', u'nbcnt': u'0', u'sv': u'1', u'tot': u'56', u'snaen': u'MRT Technology Bldg. Sta.', u'iid': u'358', u'ar': u'\\u79d1\\u6280\\u5927\\u6a13\\u7ad9\\u5c0d\\u9762(\\u5fa9\\u8208\\u5357\\u8def2\\u6bb5\\u897f\\u5074)', u'sd': u'20120725000000', u'act': u'1', u'bemp': u'54', u'lng': u'121.543293', u'_id': ObjectId('5485ce774de7883e18103e39'), u'sarea': u'\\u5927\\u5b89\\u5340', u'mday': u'20141209001006'}\n"
       ]
      }
     ],
     "prompt_number": 25
    }
   ],
   "metadata": {}
  }
 ]
}