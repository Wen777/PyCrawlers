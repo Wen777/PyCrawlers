{
 "metadata": {
  "name": "",
  "signature": "sha256:e93af6bd10001512ef7fdd88677256080d1cadbd5b59798bddc7c9103c10d535"
 },
 "nbformat": 3,
 "nbformat_minor": 0,
 "worksheets": [
  {
   "cells": [
    {
     "cell_type": "markdown",
     "metadata": {},
     "source": [
      "## Target : Quotes S&P 500\n",
      "\n",
      "Download S&P 500 list from:\n",
      "\n",
      "http://data.okfn.org/data/core/s-and-p-500-companies#resource-constituents\n",
      "\n",
      "Yahoo! Finance API, CSV Historical Quotes Download :\n",
      "\n",
      "https://code.google.com/p/yahoo-finance-managed/wiki/csvHistQuotesDownload"
     ]
    },
    {
     "cell_type": "code",
     "collapsed": false,
     "input": [
      "import pandas as pd\n",
      "from pandas.io.parsers import StringIO\n",
      "import numpy as np\n",
      "import requests\n",
      "import csv\n",
      "import re\n",
      "import time\n",
      "import random"
     ],
     "language": "python",
     "metadata": {},
     "outputs": [],
     "prompt_number": 1
    },
    {
     "cell_type": "code",
     "collapsed": false,
     "input": [
      "# def get_stock_quotes(stock=None, date_start=False, date_end=False):\n",
      "def get_stock_quotes(stock, date_start, date_end):\n",
      "    \"\"\"\n",
      "    get_stock_quotes(stock, date1, date2) will return the tables consist of daily trading data found on Yahoo!  Finance\n",
      "    website. All data except those for warrent, CBBC and OCBBC.\n",
      "    \n",
      "    Input: a string of date with the format yyyy/mm/dd\n",
      "    Ouput: A list of pandas dataframes. \n",
      "    \"\"\"\n",
      "    date = [date_start, date_end]\n",
      "    pattern = re.compile(\"[0-9]{4}/[0-9]{2}/[0-9]{2}\")\n",
      "    df_list, year, month, day= [], [], [], []\n",
      "\n",
      "    for i in date:\n",
      "        assert isinstance( i, str), \"date must be sting\"\n",
      "        match = pattern.match(i)\n",
      "        assert not match is None, \"Wrong format of date. Date must be of yyyy/mm/dd format.\"\n",
      "        year.append(i.split(\"/\")[0])\n",
      "        month.append(i.split(\"/\")[1])\n",
      "        day.append(i.split(\"/\")[2])\n",
      "#     ym.append(i + j) for i, j in zip(year, month)\n",
      "#     ymd.append(i + j + k) for i, j, k in zip(year, month, day)\n",
      "#     According Yahoo! Finance API, month parameter must \"minus 1\" \n",
      "    CSVurl = \"http://real-chart.finance.yahoo.com/table.csv?s={stock}&a={month_s}&b={day_s}&c={year_s}&d={month_e}\\\n",
      "&e={day_e}&f={year_e}&g={chart_format}&ignore=.csv\".format(stock = stock,\n",
      "                                                            month_s = str(int(month[0])-1),\n",
      "                                                            day_s = day[0],\n",
      "                                                            year_s = year[0],\n",
      "                                                            month_e = str(int(month[1])-1),\n",
      "                                                            day_e = day[1],\n",
      "                                                            year_e = year[1],\n",
      "                                                            chart_format=\"d\")\n",
      "\n",
      "    time.sleep( int( 5 * random.random() ) )\n",
      "    res = requests.get(CSVurl)\n",
      "    \n",
      "    if int(res.status_code) == 404:\n",
      "        print \"404 error\"\n",
      "        return \n",
      "    res.encoding = \"unicode\"\n",
      "    data_string = res.text#.replace(u'-',u\"\")\n",
      "    csvfile = StringIO(data_string)\n",
      "    rows = list(csv.reader(csvfile))    \n",
      "    columns_number_set = set(map(lambda xx: len(xx), rows))\n",
      "    for columns_number in columns_number_set:\n",
      "        temp_rows = [row for row in rows if len(row) == columns_number]\n",
      "        temp_df = pd.DataFrame(temp_rows[1:], columns = temp_rows[0])\n",
      "        temp_df['COMPANY'] = stock\n",
      "#         df_list.append(temp_df)\n",
      "        df_list = temp_df\n",
      "    return df_list"
     ],
     "language": "python",
     "metadata": {},
     "outputs": [],
     "prompt_number": 2
    },
    {
     "cell_type": "code",
     "collapsed": false,
     "input": [
      "df_list = get_stock_quotes( \"AMZN\",\"2014/10/17\", \"2014/10/17\")"
     ],
     "language": "python",
     "metadata": {},
     "outputs": [],
     "prompt_number": 3
    },
    {
     "cell_type": "code",
     "collapsed": false,
     "input": [
      "print df_list"
     ],
     "language": "python",
     "metadata": {},
     "outputs": [
      {
       "output_type": "stream",
       "stream": "stdout",
       "text": [
        "         Date    Open    High     Low   Close   Volume Adj Close COMPANY\n",
        "0  2014-10-17  307.15  309.20  302.72  303.64  4405100    303.64    AMZN\n"
       ]
      }
     ],
     "prompt_number": 4
    },
    {
     "cell_type": "code",
     "collapsed": false,
     "input": [
      "def qoutes_valid_day():\n",
      "\n",
      "    CSVurl = \"http://real-chart.finance.yahoo.com/table.csv?s={stock}&a={month_s}&b={day_s}&c={year_s}&d={month_e}\\\n",
      "&e={day_e}&f={year_e}&g={chart_format}&ignore=.csv\".format(stock = \"MMM\",\n",
      "                                                            month_s = \"\",\n",
      "                                                            day_s = \"\",\n",
      "                                                            year_s = \"\",\n",
      "                                                            month_e = \"\",\n",
      "                                                            day_e = \"\",\n",
      "                                                            year_e = \"\",\n",
      "                                                            chart_format=\"d\")\n",
      "    \n",
      "    res = requests.get(CSVurl)\n",
      "    res.encoding = \"unicode\"\n",
      "    data_string = res.text.replace(u'-',u\"\")\n",
      "    csvfile = StringIO(data_string)\n",
      "    rows = list(csv.reader(csvfile))\n",
      "    columns_number_set = set(map(lambda xx: len(xx), rows))\n",
      "    for columns_number in columns_number_set:\n",
      "        DAYdata = [ row for row in rows if len(row) == columns_number ]\n",
      "        DAYdf = pd.DataFrame(DAYdata[1:], columns = DAYdata[0])\n",
      "        DAYlist = DAYdf[\"Date\"].values.tolist()\n",
      "    \n",
      "    return DAYlist"
     ],
     "language": "python",
     "metadata": {},
     "outputs": [],
     "prompt_number": 5
    },
    {
     "cell_type": "code",
     "collapsed": false,
     "input": [
      "DAYlist = qoutes_valid_day()"
     ],
     "language": "python",
     "metadata": {},
     "outputs": [],
     "prompt_number": 6
    },
    {
     "cell_type": "code",
     "collapsed": false,
     "input": [
      "def verify_day(date):\n",
      "    pattern = re.compile(\"[0-9]{4}/[0-9]{2}/[0-9]{2}\")\n",
      "#     df_list, year, month, day= [], [], [], []\n",
      "    assert isinstance( date, str), \"date must be sting\"\n",
      "    match = pattern.match(date)\n",
      "    assert not match is None, \"Wrong format of date. Date must be of yyyy/mm/dd format.\"\n",
      "    year, month, day= date.split(\"/\")\n",
      "#     print year, month, day\n",
      "    if (year + month + day) in DAYlist:\n",
      "        return year + month + day, \"True\"\n",
      "    else:\n",
      "        return year + month + day, \"False\"\n",
      "verify_day(\"2014/10/10\")"
     ],
     "language": "python",
     "metadata": {},
     "outputs": [
      {
       "metadata": {},
       "output_type": "pyout",
       "prompt_number": 7,
       "text": [
        "('20141010', 'True')"
       ]
      }
     ],
     "prompt_number": 7
    },
    {
     "cell_type": "code",
     "collapsed": false,
     "input": [
      "def get_SP500_daliy_quotes(date):\n",
      "    \"\"\"\n",
      "    get_SP500_daliy_quotes() will return the tables consist of daily trading data found on Yahoo!  Finance\n",
      "    website. All data except those for warrent, CBBC and OCBBC.\n",
      "    \n",
      "    Input: None\n",
      "    Ouput: A list of pandas dataframes. \n",
      "    \"\"\"\n",
      "    if verify_day(date)[1] is \"False\":\n",
      "        return \"There is no data. Please choose another day.\"\n",
      "\n",
      "    CSVurlSP = \"https://raw.githubusercontent.com/datasets/s-and-p-500-companies/master/data/constituents.csv\"\n",
      "    SP_res = requests.get(CSVurlSP)\n",
      "    SP_res.encoding=\"unicode\"\n",
      "    SP_data_string = SP_res.text\n",
      "    SP_csvfile = StringIO(SP_data_string)\n",
      "    SP_rows = list(csv.reader(SP_csvfile))\n",
      "    SP_columns_num_set = set(map(lambda xx: len(xx), SP_rows))\n",
      "    SP_data = [SP_one_row for SP_one_row in SP_rows if len(SP_one_row) == 3]\n",
      "    SP_df = pd.DataFrame(SP_data[1:], columns = SP_data[0])\n",
      "    SP_name = SP_df[\"Symbol\"].values.tolist()\n",
      "    if \"FRX\" in SP_name: SP_name.remove(\"FRX\")\n",
      "    data1 = get_stock_quotes(SP_name[0], date, date)\n",
      "    print len(SP_name)\n",
      "    for i in SP_name[1:]:\n",
      "        data1 = data1.append(get_stock_quotes(i, date, date), ignore_index = True)\n",
      "    bigdata = data1\n",
      "    return bigdata"
     ],
     "language": "python",
     "metadata": {},
     "outputs": [],
     "prompt_number": 8
    },
    {
     "cell_type": "code",
     "collapsed": false,
     "input": [
      "get_SP500_daliy_quotes(\"2014/10/11\")"
     ],
     "language": "python",
     "metadata": {},
     "outputs": [
      {
       "metadata": {},
       "output_type": "pyout",
       "prompt_number": 9,
       "text": [
        "'There is no data. Please choose another day.'"
       ]
      }
     ],
     "prompt_number": 9
    },
    {
     "cell_type": "code",
     "collapsed": false,
     "input": [
      "get_SP500_daliy_quotes(\"2014/10/10\")"
     ],
     "language": "python",
     "metadata": {},
     "outputs": [
      {
       "output_type": "stream",
       "stream": "stdout",
       "text": [
        "500\n"
       ]
      },
      {
       "html": [
        "<div style=\"max-height:1000px;max-width:1500px;overflow:auto;\">\n",
        "<table border=\"1\" class=\"dataframe\">\n",
        "  <thead>\n",
        "    <tr style=\"text-align: right;\">\n",
        "      <th></th>\n",
        "      <th>Date</th>\n",
        "      <th>Open</th>\n",
        "      <th>High</th>\n",
        "      <th>Low</th>\n",
        "      <th>Close</th>\n",
        "      <th>Volume</th>\n",
        "      <th>Adj Close</th>\n",
        "      <th>COMPANY</th>\n",
        "    </tr>\n",
        "  </thead>\n",
        "  <tbody>\n",
        "    <tr>\n",
        "      <th>0</th>\n",
        "      <td> 2014-10-10</td>\n",
        "      <td> 139.33</td>\n",
        "      <td> 139.60</td>\n",
        "      <td> 133.82</td>\n",
        "      <td> 133.83</td>\n",
        "      <td>  7366500</td>\n",
        "      <td> 133.12</td>\n",
        "      <td>  MMM</td>\n",
        "    </tr>\n",
        "    <tr>\n",
        "      <th>1</th>\n",
        "      <td> 2014-10-10</td>\n",
        "      <td>  41.47</td>\n",
        "      <td>  42.29</td>\n",
        "      <td>  41.45</td>\n",
        "      <td>  41.54</td>\n",
        "      <td>  4990100</td>\n",
        "      <td>  41.54</td>\n",
        "      <td>  ABT</td>\n",
        "    </tr>\n",
        "    <tr>\n",
        "      <th>2</th>\n",
        "      <td> 2014-10-10</td>\n",
        "      <td>  55.99</td>\n",
        "      <td>  56.67</td>\n",
        "      <td>  54.95</td>\n",
        "      <td>  54.97</td>\n",
        "      <td> 12108700</td>\n",
        "      <td>  54.97</td>\n",
        "      <td> ABBV</td>\n",
        "    </tr>\n",
        "    <tr>\n",
        "      <th>3</th>\n",
        "      <td> 2014-10-10</td>\n",
        "      <td>  78.41</td>\n",
        "      <td>  78.82</td>\n",
        "      <td>  76.80</td>\n",
        "      <td>  76.84</td>\n",
        "      <td>  3389400</td>\n",
        "      <td>  75.81</td>\n",
        "      <td>  ACN</td>\n",
        "    </tr>\n",
        "    <tr>\n",
        "      <th>4</th>\n",
        "      <td> 2014-10-10</td>\n",
        "      <td> 105.11</td>\n",
        "      <td> 106.41</td>\n",
        "      <td> 104.90</td>\n",
        "      <td> 104.90</td>\n",
        "      <td>  1126700</td>\n",
        "      <td> 104.90</td>\n",
        "      <td>  ACE</td>\n",
        "    </tr>\n",
        "  </tbody>\n",
        "</table>\n",
        "</div>"
       ],
       "metadata": {},
       "output_type": "pyout",
       "prompt_number": 10,
       "text": [
        "         Date    Open    High     Low   Close    Volume Adj Close COMPANY\n",
        "0  2014-10-10  139.33  139.60  133.82  133.83   7366500    133.12     MMM\n",
        "1  2014-10-10   41.47   42.29   41.45   41.54   4990100     41.54     ABT\n",
        "2  2014-10-10   55.99   56.67   54.95   54.97  12108700     54.97    ABBV\n",
        "3  2014-10-10   78.41   78.82   76.80   76.84   3389400     75.81     ACN\n",
        "4  2014-10-10  105.11  106.41  104.90  104.90   1126700    104.90     ACE"
       ]
      }
     ],
     "prompt_number": 10
    },
    {
     "cell_type": "code",
     "collapsed": false,
     "input": [],
     "language": "python",
     "metadata": {},
     "outputs": []
    }
   ],
   "metadata": {}
  }
 ]
}