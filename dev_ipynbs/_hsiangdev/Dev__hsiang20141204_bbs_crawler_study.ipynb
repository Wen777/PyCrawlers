{
 "metadata": {
  "name": "",
  "signature": "sha256:8bac69934a5950fe6581f7e25ccfbc184bfe96b3a22861dc46c05fe1fc19a29c"
 },
 "nbformat": 3,
 "nbformat_minor": 0,
 "worksheets": [
  {
   "cells": [
    {
     "cell_type": "markdown",
     "metadata": {},
     "source": [
      "# Reference\n",
      "\n",
      "+ https://gist.github.com/anonymous/7568323\n",
      "+ http://tw.18dao.net/%E6%9F%A5ASC%E7%A2%BC/%E5%90%84%E9%8D%B5%E5%B0%8D%E6%87%89%E7%9A%84ASCII%E7%A2%BC%E5%80%BC\n",
      "+ https://www.ptt.cc/bbs/Python/M.1237219456.A.8DE.html\n",
      "+ https://www.ptt.cc/bbs/Python/M.1331268840.A.D49.html\n",
      "+ http://en.wikipedia.org/wiki/Control_character"
     ]
    },
    {
     "cell_type": "code",
     "collapsed": false,
     "input": [
      "import telnetlib\n",
      "import os\n",
      "import time\n",
      "import pandas as pd\n",
      "from pandas.io.parsers import StringIO\n",
      "import numpy as np\n",
      "import re"
     ],
     "language": "python",
     "metadata": {},
     "outputs": [],
     "prompt_number": 1
    },
    {
     "cell_type": "code",
     "collapsed": false,
     "input": [
      "# Make a connection to ptt.cc\n",
      "ptt = telnetlib.Telnet('ptt.cc')"
     ],
     "language": "python",
     "metadata": {},
     "outputs": [],
     "prompt_number": 2
    },
    {
     "cell_type": "code",
     "collapsed": false,
     "input": [
      "# read the response from the server and parse it into utf-8 format which is reconginizable to python.\n",
      "# We ignore all non-ascii characters\n",
      "data = ptt.read_very_eager()\n",
      "print data.decode(\"big5\", \"ignore\")"
     ],
     "language": "python",
     "metadata": {},
     "outputs": [
      {
       "output_type": "stream",
       "stream": "stdout",
       "text": [
        "HTTP/1.1 200 OK\r\n",
        "\r\n",
        "     \u02d9      \u001b[33;1mPTT\u001b[m                \u00b7   \u25e3        \u00b7  \u02d9      \u001b[1m\u25e2\u001b[47m\u2588\u2588\u2588\u2588\u2588\u2588\u001b[40m\u25e4\u001b[m\r\n",
        "             \u001b[1m140.112.172.11 \u001b[m\u00b7     \u25e2\u001b[47m\u2588\u001b[1m\u25e5\u001b[40m\u2588\u25e4\u001b[m            \u001b[1m\u25e2\u001b[47m\u2588\u2588\u2588\u2588\u2588\u001b[m\r\n",
        "  \u250c\u2500\u2510     \u001b[33;1m\u6279\u8e22\u8e22\u5be6\u696d\u574a\u001b[m        \u25e2\u001b[30;47m\u2583\u001b[37m\u2588\u2588\u001b[1m\u25e5\u2588\u001b[40m\u25e4\u001b[m   \u00b7   \u001b[1m\u25e2\u001b[47m\u2588\u2588\u2588\u2588\u2588\u001b[40m\u25e4  \u001b[m\u00b7\u001b[m\r\n",
        "  \u2502\u001b[1m\u2013\u001b[m\u2514\u2510   \u001b[1mptt.cc       \u001b[m     \u25e2\u001b[47m\u2588\u2588\u2588\u2588\u2588\u001b[1m\u25e5\u001b[40m\u2588\u25e4\u001b[m    \u001b[1m\u25e2\u001b[47m\u2588\u2588\u2588\u2588\u2588\u001b[m\r\n",
        "  \u2502\u001b[1m\u2013\u001b[m  \u2502                   \u25e2\u001b[47m\u2588\u2588\u2588\u001b[40m\u25e4\u001b[47m\u2588\u2588\u2588\u001b[1m\u25e5\u001b[40m\u25e4\u001b[m  \u001b[1m\u25e2\u001b[47m\u2588\u2588\u2588\u2588\u2588\u001b[40m\u25e4  \u001b[m\u02d9  \u00b7\u001b[m\r\n",
        "\u2500\u2518    \u2502\u250c\u2500\u2500\u2510  \u00b7       \u25e5\u25e4      \u001b[47m\u2588\u2588\u2588\u2588\u001b[40m\u25e3\u001b[1m\u25e2\u001b[47m\u2588\u2588\u2588\u2588\u001b[40m    \u001b[m\u00b7\u001b[m\r\n",
        "        \u2514\u2524  \u001b[33;1m\u2013\u001b[m\u2502      \u00b7           \u25e2\u001b[47m\u2588\u2588\u2588\u2588\u001b[1m\u25e2\u2588\u2588\u2588\u001b[40m\u25e4            \u001b[m\u00b7\u001b[m\r\n",
        "                \u2502\u250c\u2500\u2500\u2500\u2510         \u001b[47m\u2588\u2588\u2588\u2588\u2588\u001b[40m\u2587\u2587\u2586\u2586\u2585\u2585\u2584\u2584\u2583\u2582\u2581\u001b[m\r\n",
        "            \u250c\u2500\u2534\u2518\u001b[1m\u2013\u001b[33m\u2013\u001b[m  \u2514 \u25e2\u001b[47m\u2588\u2588\u2588\u2588\u2588\u001b[40m\u2587\u2587\u2586\u2586\u2585\u2585\u2584\u2584\u2583\u2583\u2582\u2582\u2581\u001b[m\r\n",
        "            \u2502\u001b[1m\u2013\u2013\u001b[m           \u25e5\u001b[47m\u2588\u2588\u001b[40m      \u2588\u2587\u2587\u2586\u2586\u2585\u2585\u2584\u2584\u2583\u2582\u2581\u001b[m\r\n",
        "\u001b[H\u001b[2J   \u001b[36m[1mB     \u001b[;36m\u25e2\u001b[46m  \u001b[1m\u03c5 \u001b[;30;46m/\u001b[34m_\u2582[44mf   \u001b[37m[34;47m[44m    \u001b[47m \u001b[44m     \u001b[47m[;44m           \u001b[34;47m[;44me     \u001b[34m[46me\u001b[;36m\u25e3  \u001b[1m[;36mB    \u001b[33m[30md\u001b[m\r\n",
        "      \u001b[1;36m\\ \u001b[;36m\u25e2\u001b[1;46m\u2032\u001b[;36;46m[37md\u001b[34m\u2586\u001b[44m[1;30m      \u001b[;44m[34;47m[44m    \u001b[47m\u258b\u001b[;44m\u258f    \u001b[34;47m[;44m            \u001b[34;47m[;44m    \u001b[34m[46me\u001b[;36m\u25e3 \u001b[1;30m.  \u001b[;30m[33md\u001b[43m[40md \u258b \u258b\u001b[m\r\n",
        " \u001b[1;36m[;36mB   \u25e2\u001b[1;46m\u03c5\u001b[;36;46m[34me\u001b[;44m[34;47m[44m          \u001b[37m[34;47m[44m     \u001b[47m\u258a\u001b[;44m\u258e     \u001b[34;47m[;44m            \u001b[34;47m[;44m     \u001b[34m[46me\u001b[;36m\u25e3  \u001b[30m[43mg \u258a\u001b[33m[40me\u001b[30;43m\u258e\u001b[;33m[30me\u001b[m\r\n",
        "    \u001b[30m[36m[46m  [34me\u001b[44m \u001b[37m[34;47m[44m          \u001b[37m[34;47m[44m      \u001b[47m\u2589\u001b[;44m\u258d      \u001b[34;47m[;44m  \u001b[34m[31mb\u2582[34mb    \u001b[47m[;44m     \u001b[34m[40m[1;30m[;30m[33me\u001b[43m[40mg\u258a\u001b[30;43m\u258b\u001b[;33m\u258e\u001b[m\r\n",
        " \u001b[1;30m\u3002\u001b[;30m[36m[1;46m'\u001b[;36;46m[34me\u001b[44m  \u001b[37m[34;47m[44m          \u001b[37m[34;47m[44m         \u001b[47m \u001b[44m       \u001b[37m\u301d[31md[41mg [1;36mL \u001b[;31;41m[44mg[34md  \u001b[47m[;44m   \u001b[34m[40m   \u001b[30m[43mg\u001b[;33m\u258b\u258b \u258b[30mb\u001b[m\r\n",
        "  \u001b[30m[36m[46m[34me\u001b[44m   \u001b[37m[34;47m[44m          \u001b[37m[34;47m[44m         \u001b[47m\u258b\u001b[;44m\u258f      \u001b[31m[41me \u001b[1;36m\u03c5    [;31;41mC [44me  \u001b[34;47m[;44m \u001b[34m[40m\u001b[36m\u301d  \u001b[30m[33m[43m \u001b[;30m[43me[40md\u001b[43m\u2583[40me\u001b[m\r\n",
        " \u001b[30m[36m[44m[34m   \u001b[37m\u258e     \u001b[34m[31mc\u2584[47mf\u001b[44m\u2584[34mc      \u001b[47m\u258a\u001b[;44m\u258e    \u001b[34;41m\u258a\u001b[1;37m\u2581\uff3f  \u001b[;31;41m[1;37m\u6d01\\\ufe37\u3127\u001b[;31;44m\u258e \u001b[34;47m[;44m\u001b[;34m\u258e     \u001b[30m[33mb\u2582\u001b[30m[33mb\u2582[30mb\u001b[m\r\n",
        "\u001b[30;46m\u258a\u001b[34m[44m  \u001b[47m\u258a\u001b[44m      \u001b[31m[41me \u001b[1;36m'      \u001b[;31;41m[44mg[34md   \u001b[47m\u2589\u001b[;44m\u258d     \u001b[41m   \u001b[1m\uffe3\u001b[;30;41m[31mK  \u001b[1;36m,     \u001b[;34;41m[44mk  \u001b[47m[1;30;44m[40m   \u001b[;36m\u3002 \u001b[30;43m\u2589 [33me\u001b[30m\u258d\ufe3b\u001b[;33m\u258b\u001b[m\r\n",
        "\u001b[30m[1m[;34m\u25e5\u001b[44m    \u001b[37m\u258e   \u001b[34;41m\u258b\u001b[1;37m\ufe37 \u3127\ufe38\u2594\u001b[;31;44m\u258e    \u001b[47m \u001b[44m    \u001b[34;41m\u2589\u001b[30m\\\u001b[31m[30m}\u001b[31m[47m[41m[47m[41m [47m[30;41m\\ \u2595\u001b[31;44m\u258b\u258e\u001b[30m[40me\u001b[1m[;30m    \u001b[43m\u2589 \u001b[;33m[43me\u001b[30m\u258d\ufe3c[40mb\u001b[m\r\n",
        "   \u001b[30m[34m[44m \u001b[47m\u258a\u001b[44m     \u001b[41m\u258d     \u001b[31m[1;36mB  \u001b[;30;41m/\u001b[31;47m[41m[30m\uff3c\u001b[44m    \u001b[34;47m\u258b\u001b[;44m\u258f    \u001b[31;41m[44m[30;41m[\u001b[31;47m\u258e[37m[31m\u25e5\u001b[37m[41mg\u001b[31;47m\u25e5\u001b[30;41m]\u001b[;31m[34m       \u001b[1;36m\\   \u001b[;30m[43mh\u001b[33m[40me\u001b[30m[43m[33m[40mf[30me\u001b[m\r\n",
        "\u001b[1;36m\u301d  \u001b[;30m[34m[44m \u001b[37m\u258e    \u001b[34;41m\u258e\u001b[1;36m\u2018 \u001b[;31;41m[30m}  \u001b[31;47m\u25e4\u001b[30;41m[47mc\u001b[;41m\u258f\u001b[30m[\u001b[31;44m\u258f  \u001b[34;47m\u258a\u001b[;44m\u258e    \u001b[31m[34m[;41m[47mk\u001b[m\u2585[47mg[mg\u2585\u001b[47m \u001b[31m[40mk            \u001b[30;43m\u2589\u001b[;33m[43ml\u001b[;30m[33m[30;43m/\u001b[;33m[30m[43m \u001b[;33m\u258f\u001b[m\r\n",
        "     \u001b[30;47m[34mo\u001b[44m       \u001b[41m \u001b[1;36m. \u001b[;31;41m[37md\u001b[30m[\u001b[31m[47m\u001b[30m[1m[;1m'\u001b[;31;47m[44m\u54c8\u001b[34m  \u001b[47m\u2589\u001b[;44m\u258d \u001b[30m\u2581  \u001b[31m\u2595\u001b[47m\u258f      \u001b[;41m\u2589\u001b[;31m\u258f   \u001b[1;36m\\   [;36mB \u001b[1m[;36mE \u001b[30m[43mc\u2583\u001b[40m[33m\u54c8\u001b[30;43m[;33m[30m[m\r\n",
        " \u001b[36m[1mB  \u001b[;30m[1m\u001b[;30;44m\u2586\u2584\u2582\u001b[34;41m\u258e\u001b[31;47m\u2589\u001b[;41m\u258a\u001b[31;47m\u258e     \u001b[34m[44m\u001b[30m\u2582\u2584[;47mg\u001b[40m      \u001b[30;44m\u2587\u001b[40m \u001b[47m[37md \u001b[30m\u2013 \u001b[37m[30md\u001b[40m   \u001b[1m[;30mL           [33mb\u2582\u001b[30m[33mb\u2582[30mb\u001b[m\r\n",
        "              \u001b[30m[31m[30;41m| \u001b[37m\u25e5\u001b[31;47m\u258d    \u001b[37m[m    \u001b[36m.\u001b[30;47m\u258b\u001b[m\u258f  \u001b[36m\\  .  \u001b[30m[33;47mg\u2584[;30mg                \u001b[43m\u2589 [33me\u001b[30m\u258d\ufe3b\u001b[;33m\u258b\u001b[m\r\n",
        "  \u001b[1;30m\u5076\u723e\u4e0b\u96e8  \u001b[;36m\u2019 \u001b[30;41m\u258b/\\\u001b[33;43m[31m[33;47m[37mc \u001b[1;30m\u2035\u001b[m\u258e      \u001b[30;47m\u258a\u001b[m\u258e     \u001b[30m[31mc[41mf\u001b[47m \u001b[;43m\u2586\u001b[47m \u001b[31;41m[40mf[30mc   \u001b[36m[1mB   \u001b[;36m[1mC   \u001b[;30;43m\u2589 \u001b[;33m[43me\u001b[30m\u258d\ufe3c[40mb\u001b[m\r\n",
        "     \u001b[1;30m\u4e5f\u4e0d\u932f\u5462  \u001b[;30m[31m[41m[37mc\u001b[31;43m[33ml [30;47mg\u2585\u001b[40m     \u001b[36m\uff3c \u001b[30;47m\u2589\u001b[m\u258d  \u001b[30m[31mc[41mf \u001b[30m\\ \u001b[31;47m\u258e\u001b[;41m\u258a \u001b[30m/ \u001b[31m[40mf[30mc        \u001b[36m\\  \u001b[30m[43mh\u001b[33m[40me\u001b[30m[43m[33m[40mf[30me\u001b[m\r\n",
        " \u001b[36m'  \uff3c     \u001b[1m[;36mO    [;47m[33m\u25e5\u25e4\u001b[m[36m  \u001b[1m[;36mC      \u001b[33;47m[;30mb[31m[41m  \u001b[36m\u2019 \u001b[30m\uff3c\u001b[31m[37m\u708e\u001b[31m[30m\uff0f \u001b[36m\u3003 \u001b[31m[40mg         \u001b[30;43m\u2589\u001b[;33m[43ml\u001b[;30m[33m[30;43m/\u001b[;33m[30m[43m \u001b[;33m\u258f\u001b[m\r\n",
        "\u001b[34m\u03c8rod24574575 \u001b[30m[36md[46mg\u001b[37m\u25e5\u001b[36;47m\u25b2\u001b[;46m\u25e4 \u001b[36m[40mg[30md \u001b[36m\\     \u001b[30;43m[40mT\u001b[41m\u258e\\  \u001b[36m\u2035 \u001b[30m\uff3c\u039b\uff0f     / \u001b[;31m\u258e   \u001b[36m\uff3c   \u001b[30m[43mc\u2583\u001b[40m[33m\u54c8\u001b[30;43m[;33m[30m[m\r\n",
        "\u001b[1m\u6b61\u8fce\u4f86\u5230 \u001b[32m\u6279\u8e22\u8e22\u5be6\u696d\u574a \u001b[37m\u76ee\u524d\u6709\u001b[33m\u301093010\u3011\u001b[37m\u4f4d\u4f7f\u7528\u8005\u9858\u610f\u966a\u4f60\u4e00\u8d77\u6490\u5098\u3002\u001b[m\r\n",
        "\u001b[21;1H\u001b[K\u001b[m\u8acb\u8f38\u5165\u4ee3\u865f\uff0c\u6216\u4ee5 guest \u53c3\u89c0\uff0c\u6216\u4ee5 new \u8a3b\u518a: \u001b[7m              \b\b\b\b\b\b\b\b\b\b\b\b\b\b\n"
       ]
      }
     ],
     "prompt_number": 3
    },
    {
     "cell_type": "code",
     "collapsed": false,
     "input": [
      "# Enter the username.\n",
      "ptt.write(\"NCCUcrawler\\r\\n\")\n",
      "# pause a while for server to response.\n",
      "time.sleep(1)\n",
      "# Enter the password.\n",
      "ptt.write(\"nccu\\r\\n\")\n",
      "time.sleep(2)\n",
      "# Login!!\n",
      "data = ptt.read_very_eager()\n",
      "print data.decode(\"big5\", \"ignore\")"
     ],
     "language": "python",
     "metadata": {},
     "outputs": [
      {
       "output_type": "stream",
       "stream": "stdout",
       "text": [
        "NCCUcrawler\u001b[m\u001b[22;1H\u001b[K\u001b[m\u8acb\u8f38\u5165\u60a8\u7684\u5bc6\u78bc: \u0007\u001b[22;1H\u001b[K\u001b[m\u6b63\u5728\u6aa2\u67e5\u5e33\u865f\u8207\u5bc6\u78bc...\u001b[22;1H\u001b[K\u001b[m\u5bc6\u78bc\u6b63\u78ba\uff01 \u958b\u59cb\u767b\u5165\u7cfb\u7d71...\r\n",
        "\u001b[H\u001b[2J\u001b[H\u001b[2J\u001b[m\u001b[23;1H\u767b\u5165\u4e2d\uff0c\u8acb\u7a0d\u5019...\r",
        "\u6b63\u5728\u66f4\u65b0\u8207\u540c\u6b65\u7dda\u4e0a\u4f7f\u7528\u8005\u53ca\u597d\u53cb\u540d\u55ae\uff0c\u7cfb\u7d71\u8ca0\u8377\u91cf\u5927\u6642\u6703\u9700\u6642\u8f03\u4e45...\r\n",
        "\u001b[H\u001b[2J\u001b[1;36m** \u7ad9\u5167\u4fe1\u7bb1\u50c5\u4f9b\u8207\u7ad9\u5167\u5176\u5b83\u4f7f\u7528\u8005\u8a0a\u606f\u4ea4\u6d41\uff0c\u6216\u65b9\u4fbf\u8207\u5b83\u7ad9\u4ea4\u63db\u8cc7\u6599\u3002\r\n",
        "   \u8acb\u5404\u4f4d\u4f7f\u7528\u8005\u5225\u628a\u7ad9\u5167\u4fe1\u7bb1\u62ff\u4f86\u7576\u71b1\u9580\u770b\u677f\u6c38\u4e45\u5099\u4efd\u7a7a\u9593\u8d85\u6536\u4e0a\u5343\u6216\u4e0a\u842c\u5c01\u6587\u4ef6\uff0c\r\n",
        "   \u672a\u4f86\u7cfb\u7d71\u6709\u53ef\u80fd\u6703\u4e0d\u5b9a\u671f\u81ea\u52d5\u5075\u6e2c\u4e26\u522a\u9664\u6b64\u985e\u4fdd\u7559\u904e\u91cf\u4e14\u904e\u4e45\u7684\u770b\u677f\u5099\u4efd\u6587\u001b[m\r",
        "\u001b[24;1H\u001b[21;7H\u6b61\u8fce\u60a8\u518d\u5ea6\u62dc\u8a2a\uff0c\u4e0a\u6b21\u60a8\u662f\u5f9e \u001b[1;33m218.174.47.67 \u001b[m\u9023\u5f80\u672c\u7ad9\u3002\r\n",
        "\n",
        "\n",
        "\u001b[1;34;44m \u2584\u2584\u2584\u2584\u2584\u2584\u2584\u2584\u2584\u2584\u2584\u2584\u2584\u2584\u2584\u001b[0;1;37;44m \u8acb\u6309\u4efb\u610f\u9375\u7e7c\u7e8c \u001b[34m\u2584\u2584\u2584\u2584\u2584\u2584\u2584\u2584\u2584\u2584\u2584\u2584\u2584\u2584\u2584  \u001b[m\n"
       ]
      }
     ],
     "prompt_number": 4
    },
    {
     "cell_type": "code",
     "collapsed": false,
     "input": [
      "# press arbitrary key to continue.\n",
      "ptt.write(\"s\".encode(\"big5\"))\n",
      "time.sleep(2)\n",
      "data = ptt.read_very_eager()\n",
      "# Home page!\n",
      "print data.decode(\"big5\", \"ignore\")"
     ],
     "language": "python",
     "metadata": {},
     "outputs": [
      {
       "output_type": "stream",
       "stream": "stdout",
       "text": [
        "\u001b[H\u001b[1;37;44m\u3010\u4e3b\u529f\u80fd\u8868\u3011                     \u001b[33m\u6279\u8e22\u8e22\u5be6\u696d\u574a\u001b[0;1;37;44m                                  \r\n",
        "\u001b[m\u001b[K\n",
        "\u001b[34mh                                     \u001b[30m[31mk\u2582)\u2582[30mb           \u001b[31m\u256e   \u256d          \u001b[m[1;36m  \u001b[4;7H\u001b[0;30m[0;1;37md[0;30mc     [1mc,                   \u001b[0;31m\u25e2\u001b[41m[1mb\u2582  \u001b[0;31m\u25e3, \u001b[30m[1mc   \u001b[0;31m\u2035\u001b[30m[31mc\\\u3011/\u001b[30m[31m\u828dd[30;41m[0;30m   \u001b[m[1;36mh  \u001b[m[1;36m  \u001b[5;3H\u001b[0;30m[47m[0;1;37m\u2582[47md[0;1;37me\u2584[0;30mf    \u001b[1m\u2035\ufe38\u001b[0;30m[1mV~ ,\u001b[0;33m\u2583\u001b[5m[0;30mk      [31m[43m\u25e5\u25e5[41m[1m\\\u001b[0;31;41m[0;31m\u5cb7\u001b[30m \u001b[1m[0;30mt\u001b[1m~ \u001b[0;31m\u2582\u001b[30;41m[0;31m[30;41m[0;31me\u001b[41m[30m[0;31m\u2583\ufe3b   \u001b[m[1;36m[  \u001b[m[1;36mN   \r\n",
        "\u001b[0;34mt \u001b[30m[m[30;47m\u2585\u001b[0;1;37;47m[0;30;47mg[0;1;37;47mh\u001b[0;1;37m[0;30mc\u001b[47m[0;30m            \u001b[43m[0;30mh       \u001b[1m\ufe35 \u001b[0;33m\u2587\u001b[43m   \u001b[31m6\u001b[41m  \u001b[0;1;35m[0;30mb\u001b[5;35m_\u001b[0;35m[30m   [41mg[31mf\u001b[5;30m[0;31;41m[30m|\u001b[31m[0;31md[5mb `  \u001b[m[1;36m \u001b[30m\uff0e   \u001b[7;5H\u001b[0;30m[47md\u001b[0;47m[30me[0;1;37;47mf\u001b[0;30;47m[0;30mg    \u001b[1m\uff3c           ,\ufe3f  \ufe59 \u001b[0;30m[1;35mc\u001b[0;35;43m\u2584\u2583\u2585\u001b[1;45m[0;35;45m\u828d\u001b[30me[0;30mg[1ms   \u001b[0;30m[41m\u828dg\u258d@\u001b[0;30m [41mh\u001b[0;31m\u301d   \u001b[m[1;36m \u001b[30m\uff0e   \u001b[8;4H\u001b[0;30m[47md[0;47me\u001b[30m\u2584\u001b[0;1;37;47m[0;30;47mf\u001b[0;30m      [1m        \u3008\uff20\\   \ufe36\u001b[0;30;45m[33mf[36me\u2585\u001b[30;46m, \u001b[0;36m[30m    \u001b[1m\u2035`~,\u001b[0;33m[1;30mN\u001b[0;30;41m[5mn\u001b[0;31m[5mn       \u001b[m[1;36mA  \u001b[30m\uff0e   \r\n",
        "\u001b[0;34mx \u001b[30m[mc[30;47me\u001b[0;30m \u001b[47m[0;1;37md\u25e5\u2585[0;30md    [1mc \ufe50       \uff0f    \u001b[0;30;46m\u258b [36m [30m[0;30m          \u001b[31m[41md[0;30m      \u001b[m[1;36ma       \u001b[10;3H\u001b[0;30;47m\u2587\u001b[0;30m  \u001b[m[30;47md\u001b[m[1;37m  \u001b[0;30;47m\u2587\u001b[0;30m         \u001b[1m\u2035\ufe38 \u2032   _  \u001b[0;30m[46m/    / [0;30m \u001b[33m\u2581\u2582\u2583\u2584\u001b[41m\u2586\u2585\u2586\u001b[0;33m\u2585\u2584\u2582\u001b[1;30m\uff0e       \u001b[11;7H\u001b[0;30;47m\u2586\u001b[m[1;37m   \u001b[30m\uff3c           \u001b[0;30m[1mc    (@\\    \u001b[0;34;46m\u2584\u2583\u2585[0;30mh  \u001b[43m\u2586\u2585\u2585\u2586\u2585\u2584\u2585\u2586\u2587\u001b[0;30m   \u001b[1m\uff0e       \r\n",
        "\u001b[0;34m9               \u001b[1;30m[0;30mt\u001b[1m~ , [0;30mc\u001b[1m[0;30md\u001b[33m[5mN \u001b[0;1;30m\u2035[0;30mt\u001b[1m[0;30mc\u001b[1m`  \u001b[0;30;44m\u258a   \u001b[1;34my  \u001b[0;34;44m[0;34m                      \u001b[1;30m\uff0e       \r\n",
        "\u001b[m\u2500\u2500\u2500\u2500\u2500\u2500\u2500\u2500\u2500 \u4e0a\u65b9\u70ba\u4f7f\u7528\u8005\u5fc3\u60c5\u9ede\u64ad\u7559\u8a00\u5340\uff0c\u4e0d\u4ee3\u8868\u672c\u7ad9\u7acb\u5834 \u2500\u2500\u2500\u2500\u2500\u2500\u2500\u2500\u001b[14;23H(\u001b[1;36mA\u001b[m)nnounce     \u3010 \u7cbe\u83ef\u516c\u4f48\u6b04 \u3011\u001b[15;23H(\u001b[1;36mF\u001b[m)avorite     \u3010 \u6211 \u7684 \u6700\u611b \u3011\u001b[16;21H> (\u001b[1;36mC\u001b[m)lass\u001b[16;38H\u3010 \u5206\u7d44\u8a0e\u8ad6\u5340 \u3011\u001b[17;23H(\u001b[1;36mM\u001b[m)ail\u001b[17;38H\u3010 \u79c1\u4eba\u4fe1\u4ef6\u5340 \u3011\u001b[18;23H(\u001b[1;36mT\u001b[m)alk\u001b[18;38H\u3010 \u4f11\u9592\u804a\u5929\u5340 \u3011\u001b[19;23H(\u001b[1;36mU\u001b[m)ser\u001b[19;38H\u3010 \u500b\u4eba\u8a2d\u5b9a\u5340 \u3011\u001b[20;23H(\u001b[1;36mX\u001b[m)yz\u001b[20;38H\u3010 \u7cfb\u7d71\u8cc7\u8a0a\u5340 \u3011\u001b[21;7H                (\u001b[1;36mP\u001b[m)lay         \u3010 \u5a1b\u6a02\u8207\u4f11\u9592 \u3011\u001b[K\u001b[22;23H(\u001b[1;36mN\u001b[m)amelist     \u3010 \u7de8\u7279\u5225\u540d\u55ae \u3011\u001b[23;23H(\u001b[1;36mG\u001b[m)oodbye\u001b[23;41H\u96e2\u958b\uff0c\u518d\u898b\u2026\r\n",
        "\u001b[34;46m[12/5 \u661f\u671f\u4e94 10:47]\u001b[1;33;45m [ \u8655\u5973\u6642 ]   \u001b[30;47m \u7dda\u4e0a\u001b[31m93143\u001b[30m\u4eba, \u6211\u662f\u001b[31mNCCUcrawler\u001b[30m    [\u547c\u53eb\u5668]\u001b[31m\u6253\u958b \u001b[m\u001b[16;21H\n"
       ]
      }
     ],
     "prompt_number": 5
    },
    {
     "cell_type": "code",
     "collapsed": false,
     "input": [
      "# Press s to search for specific board (ptt-only)\n",
      "ptt.write(\"s\".encode(\"big5\"))\n",
      "time.sleep(1)\n",
      "# Search for Hate board.\n",
      "ptt.write(\"Hate\\r\\n\".encode(\"big5\"))\n",
      "time.sleep(1)\n",
      "data = ptt.read_very_eager()\n",
      "print data.decode(\"big5\", \"ignore\")"
     ],
     "language": "python",
     "metadata": {},
     "outputs": [
      {
       "output_type": "stream",
       "stream": "stdout",
       "text": [
        "\u001b[H\u001b[30;47m\u3010 \u9078\u64c7\u770b\u677f \u3011\u001b[m\u001b[K\r\n",
        "\u8acb\u8f38\u5165\u770b\u677f\u540d\u7a31(\u6309\u7a7a\u767d\u9375\u81ea\u52d5\u641c\u5c0b): \u001b[30;47m                    \u001b[m\u001b[2;35H\u001b[H\u001b[46m       \u001b[30m[47me\u001b[34m  \u001b[30m\u25e5\u001b[m \u001b[1;43H\u001b[30;46m\u25e3     \u001b[1;33m  \u001b[0;30;46m                            \u001b[36m \r\n",
        "\u001b[30m    \u001b[0;46m \u001b[30m [0;30md \u001b[47m\u2587\u2584\u25e5\u001b[m           \u001b[30m  \u001b[m             \u001b[30m  \u001b[m \u001b[30;46m[36m[30m    \u001b[1;33m\u9ed1\u001b[0;30;46m        \u001b[36m                 \u001b[30m  \u001b[36m \r\n",
        "\u001b[30m   \u001b[0;46m \u001b[30m \u001b[0;46m \u001b[0;30m      [47mg\u2585\u001b[0;47m[mc        \u001b[30m   \u001b[m               \u001b[47m[46m[30m   \u001b[36m \u001b[1;33m\u7279\u001b[0;30;46m \u001b[1;33m\u9a0e\u001b[0;30;46m     \u001b[47m \u001b[1;31m[\u9ed1\u7279]\u001b[35m \u001b[31m      \u001b[0;36;47m   \u001b[30;46m  \u001b[36m \r\n",
        "\u001b[0;46m   \u001b[30m   \u001b[m   \u001b[30m         \u001b[47m\u2586\u001b[m\ufe3c\u2583\u258e \u001b[30m  \u001b[34m    \u001b[30m[m \u2581\u2582\u2584[47mg[m[36;46m  \u001b[30m \u001b[1;33m\u677f\u001b[0;30;46m \u001b[1;33m\u8173\u001b[0;30;46m     \u001b[36;47m \u001b[30m\u6211\u88ab\u9577\u5f97\u50cf\u65e5\u672c\u001b[36m  \u001b[30;46m \u001b[36m \u001b[30m \r\n",
        "\u001b[36m  \u001b[0;46m   \u001b[30m \u001b[m   \u001b[30m           \u001b[47m[mn\u001b[30;47m\u258b \u2584\u2583    \u001b[0;30m[47mB        \u25e2\u001b[m \u001b[30;46m  \u001b[1;33m\u63d0\u001b[0;30;46m \u001b[1;33m\u8e0f\u001b[0;30;46m     \u001b[36;47m \u001b[30m\u5a03\u5a03\u7684\u59ca\u59ca\u649e\u4e86\uff01\u001b[46m \u001b[36m \u001b[30m \r\n",
        "\u001b[0;46m   \u001b[0;36m\u25e4  \u001b[30m             \u001b[m\u258d\u001b[30;47m\u258e \u001b[m\u258d\u001b[30m      \u001b[47m\u258b\u001b[0;47m[30m\u708eg\u2584\u2585\u2586\u001b[m  \u001b[30;46m\u258b \u001b[1;33m\u9192\u001b[0;30;46m \u001b[1;33m\u8eca\u001b[0;30;46m       \u001b[36;47m\u25e3\u001b[30;46m                \r\n",
        "\u001b[36m [0;36m\u001b[30m               \u001b[m\u258b\u001b[30;47m\u258c  \u001b[m\u258b\u001b[30m      \u001b[47m\u258d \u001b[m\u258c          \u001b[30;46m\u258e\u001b[1;33m\u60a8\u001b[0;30;46m \u001b[1;33m\u8acb\u001b[0;30;46m           \u001b[m \u001b[30;46m\u25e3\u2584[36mc       \r\n",
        "[0;36m \u001b[30m     \u001b[1m|\u001b[0;30m        \u001b[m[47mf\u001b[m [47m[30m  \u001b[0;47m[m\u001b[30m     \u001b[47m\u258e  \u001b[m\u258d\u001b[30;47m[mk       \u001b[30;46m\u258e   \u001b[1;33m\u52ff\u001b[0;30;46m \u2585\u2586\u2587\u2587\u2586\u001b[m      \u001b[30m[46mg\u2584\u2582  \r\n",
        "\u001b[0;36m\u258e\u001b[30m      [1m[0;30m       \u001b[m[47me\u001b[m[30mg\u001b[m\u2585\u2585\u2586\u258e\u001b[30m   \u001b[47m\u258b  \\ \u258b\u001b[m        \u001b[30;46m\u258f   \u001b[1;33m\u6771\u001b[0;30;46m  \u25e5\u001b[m\u001b[K\r\n",
        "\u001b[36m\u258f\u001b[30;44m[0;30mn\u001b[m \u001b[36m[30m\u001b[1m\uff5c\u001b[0;30m  \u001b[m \u001b[30m  \u001b[m \u001b[30;47m\u258d\u001b[36m  \u001b[30m\u258d\u2584[0;47md \u001b[m\u258c\u001b[30m  \u001b[m \u001b[30;47m\u258d   \uff3c[0;30mk\u001b[m   \u001b[30m  \u001b[34m \u001b[30;46m\u258c    \u001b[1;33m\u5f35\u001b[0;30;46m  \u2583[0;30mg\u001b[m\u001b[K\u001b[11;3H\u001b[34m \u001b[30;46m\u258a\u001b[36m[30m[0;30m \u001b[1m[0;30m \u001b[m \u001b[30m  \u001b[m \u001b[30;47m\u258e   \u001b[m\u258c\u258a\u001b[30;47m\u258e\u001b[m\u258a\u001b[30m  \u001b[34m \u001b[30;47m\u258f \u001b[0;47m[30md\u2584\u001b[m\u2586   \u001b[30m  \u001b[34m \u001b[30;46m\u258e    \u001b[1;33m\u897f\u001b[0;30;46m\u25e2\u001b[m\u001b[K\r\n",
        "   \u001b[30m[46mm\u001b[36m [30m[0;1;30m\uff5c\u001b[0;30m  \u001b[m \u001b[30m  \u001b[m \u001b[30;47m\u258f  \u001b[m\u258a\u001b[30m[47mc\u001b[0;30m[0;47m \u001b[m\u258b \u001b[30;47m[0;47m[30m \u001b[m\u258a\u001b[30;47m\u258e\u258d \u001b[m \u001b[30m    \u001b[34m \u001b[36;46m      \u001b[1;33m\u671b\u001b[0;30;46m \u25e2\u001b[m\u001b[K\r\n",
        " \u001b[30;44m[0;30mo\u001b[46m\u258d  \u001b[36m[0;36me\u001b[m \u001b[30m  \u001b[m \u001b[30m  \u001b[m \u001b[30;47m      \u001b[m\u2586\u2587\u001b[47m    \u001b[30m[0;47m[30m  \u001b[m\u258b\u001b[47m[30me\u258e\u001b[m\u258c \u001b[30m  \u001b[34m \u001b[m/\u001b[46m  \u001b[30m     \u25e2\u001b[m      \u001b[30;47m\u25e4\u001b[0;30m[md\u2584\u001b[47m \u001b[m\u001b[K\u001b[14;2H\u001b[30;44m[0;30mn\u001b[46m\u258e  \u001b[36m  \u001b[0;30m      \u001b[47m\u258d                 \u001b[0;47m[mg\u2585\u001b[47m \u001b[30m \u001b[m\u258e\u001b[30m   \u001b[m/ \u001b[46m  \u001b[30m    [0;30m   \u001b[47m\u25e4\u001b[34m        \u001b[14;72H\u001b[m\u25e2\u001b[15;2H\u001b[30m\u258c\u001b[46m\u258f   \u001b[0;36m\u258b\u001b[30m     \u001b[47m\u258d                      \u001b[m\u258d \u001b[30m  \u001b[m\uff0f \u001b[46m  \u001b[30m   [0;30m[m[30;47m\u25e4 \u001b[1;31m\uff03\uff03\u001b[0;34;47m     \u001b[30m\u25e4\u001b[0;47m  \u001b[30m\u25e5\u001b[16;4H\u001b[46m     \u001b[36m[0;36m[30m     \u001b[47m\u258e       \u001b[0;47m               \u001b[m\u258e\u001b[30m  \u001b[m\uff0f \u001b[30;46m\u258d     \u001b[0;36m\u258d\u001b[30m[47ms\u02cd   \u001b[1;31m            \u001b[m\u258a\u001b[17;3H\u001b[30;46m\u258d     \u001b[36m[0;36m[30m    [36;47md\u001b[30m    \u001b[0;47m \u001b[31m[41m    \u001b[45m\u25e3\u001b[35m[47mf\u001b[31m     \u001b[0;47m[0;30md  \u001b[34m \u001b[m/  \u001b[30;46m\u258d\u001b[0;46m  \u001b[30m   \u001b[0;36m\u258c\u001b[30;47m\u258e     \u001b[1;31m \u001b[0;30;47m [0;47ml\u001b[30m_       \u001b[m\u2589\u001b[18;3H\u001b[30;46m\u258e\u001b[36m \u001b[30m    \u001b[0;46m \u001b[36m[0;36m[30m    \u001b[35;46m \u001b[36m[47mf\u001b[33m[0;47mc\u001b[41m\u258c        \u001b[35m\u25e5\u001b[31;47m    \u001b[0;47m[0;30md  \u001b[34m \u001b[m\uff0f  \u001b[30;46m\u258d\u001b[0;46m  \u001b[30m   \u001b[0;36m\u258c\u001b[30;47m\u2583      \u001b[1;31m   \u001b[0;30;47m\uffe3\u001b[m\u2586\u001b[30;47m\u2014  \u001b[0;47m \u001b[m[30m[19;3H\u001b[46m\u258f\u001b[36m \u001b[30m     \u001b[36m [0;36m[30m   \u001b[35;46m   \u001b[36;43m\u258f\u001b[33;47m[41mg\u2584[36mc    \u001b[31;47m\u258a\u001b[0;47m[36mb\u2584\u001b[m \u001b[30m  \u001b[34m \u001b[30m[36m  \u001b[30;46m\u258d\u001b[0;46m  \u001b[30m   \u001b[36m[0;34mg\u001b[m\u2585\u001b[47m      \u001b[30m \u2014        \u001b[m\u25e4\u001b[20;3H\u001b[30;46m  \u001b[36m \u001b[30m     \u001b[36m[0;46mf[mg\u001b[30;47m[0;47m[42m\u258d\u001b[33;46m[43mf\u001b[30m\ufe3f   \u001b[33m[36m[46m[32mc\u001b[33m\u2583[36mc   \u001b[0;36m\u258e  \u001b[30m[36m\u828dk  \u001b[30;46m\u258d\u001b[0;46m  \u001b[30m  \u001b[1m \u001b[0;34;47m\u258a\u001b[0;47m        \u001b[31m \u001b[m[30md\u001b[47m\u2584\u2582\u001b[34m   \u001b[30m \u001b[m[30m[21;3H\u001b[46m  \u001b[36m \u001b[30m     \u001b[36;47m\u258e     \u001b[42m \u001b[33m\u25e5\u001b[0;43m\u2583\u2581\u2581\u02cd\u001b[32m\u258b\u001b[33;47m\u25e4\u001b[36m\u25e5\u001b[0;46m \u001b[0;36m\u258a  \u001b[30;46m\u25e4 \u001b[m    \u001b[30;46m\u258e\u001b[0;46m \u001b[30m  \u001b[34m \u001b[36;44m\u258e\u001b[0;47m         [44m \u001b[0;34m[mf\u001b[34;47m   \u001b[30m \u25e2\u001b[22;3H\u001b[46m  \u001b[36m \u001b[30m     \u001b[36;47m\u258f     \u001b[0;42m   \u001b[36m \u001b[0;42m\u25e5\u001b[47m    \u001b[32m[42m[47m\u258c  \u001b[0;46m\u258c\u001b[0;36m\u258a\u001b[30;46m\u25e4   \u001b[m    \u001b[46m   \u001b[30m  \u001b[36;47m\u258a\u001b[0;47m  \u001b[35m\u25e2\u2586[0;47md\u001b[31m  \u001b[0;44m\u258d  \u001b[34;47m\u258c   \u001b[30m\u25e2\u001b[0;30m[md\u2582\u001b[23;2H\u001b[30;46m\u258e \u001b[36m  \u001b[30m    \u001b[36;47m   \u001b[0;47m [30m[32m[42m[0;42m           \u001b[32m[47m \u001b[0;46m\u258a\u001b[36m      \u001b[30m \u001b[m    \u001b[46m   \u001b[30m  \u001b[36;47m\u2589\u001b[0;47m  \u001b[31;45m[41mf    \u001b[47m\u258e\u001b[0;44m    \u001b[34;47m\u258e   \u001b[m\u2583[47mh  \r\n",
        "\u001b[1;34;44m \u2584\u2584\u2584\u2584\u2584\u2584\u2584\u2584\u2584\u2584\u2584\u2584\u2584\u2584\u2584\u001b[0;1;37;44m \u8acb\u6309\u4efb\u610f\u9375\u7e7c\u7e8c \u001b[34m\u2584\u2584\u2584\u2584\u2584\u2584\u2584\u2584\u2584\u2584\u2584\u2584\u2584\u2584\u2584  \u001b[m\n"
       ]
      }
     ],
     "prompt_number": 6
    },
    {
     "cell_type": "code",
     "collapsed": false,
     "input": [
      "# Press return\n",
      "ptt.write(\"\\r\\n\")\n",
      "time.sleep(1)\n",
      "data = ptt.read_very_eager().decode(\"big5\", \"ignore\")\n",
      "# Here we are, the Hate board!!\n",
      "print data"
     ],
     "language": "python",
     "metadata": {},
     "outputs": [
      {
       "output_type": "stream",
       "stream": "stdout",
       "text": [
        "\u001b[H\u001b[1;37;44m\u3010\u677f\u4e3b:tigotigo\u3011                   \u001b[33m\u9ed1\u7279\u677f\u001b[0;1;37;44m                         \u770b\u677f\u300aHate\u300b\u001b[m\u001b[K\r\n",
        "[\u2190]\u96e2\u958b [\u2192]\u95b1\u8b80 [Ctrl-P]\u767c\u8868\u6587\u7ae0 [d]\u522a\u9664 [z]\u7cbe\u83ef\u5340 [i]\u770b\u677f\u8cc7\u8a0a/\u8a2d\u5b9a [h]\u8aaa\u660e\u001b[K\r\n",
        "\u001b[30;47m   \u7de8\u865f    \u65e5 \u671f \u4f5c  \u8005       \u6587  \u7ae0  \u6a19  \u984c                          \u4eba\u6c23:18  \u001b[m\u001b[K\r\n",
        "  50720 +\u001b[1;30m  \u001b[m12/05 yakura       \u25a1 [\u9ed1\u7279]\u001b[K\r\n",
        "  50721 +\u001b[1;30m  \u001b[m12/05 xup62314     \u25a1 [\u8d85\u5e79] \u77ee\u984d\u001b[K\r\n",
        "  50722 +\u001b[1;30m  \u001b[m12/05 TDO17        \u25a1 [\u9ed1\u7279]\u001b[K\r\n",
        "  50723 +\u001b[1;32m 7\u001b[m12/05 anc575       \u25a1 [\u9ed1\u7279] ===\u6163\u4f8b.\u8981\u4e0a\u73ed\u4e0a\u8ab2\u7684\u4f86\u7c3d\u5230\u5427===\u001b[K\r\n",
        "  50724 +\u001b[1;32m 1\u001b[m12/05 \u001b[1;37msagem29      \u001b[m\u25a1 [\u7169\u8036] \u597d\u51cd\u554a\uff01\u001b[K\r\n",
        "  50725 +\u001b[1;30m  \u001b[m12/05 \u001b[1;37mrain42       \u001b[m\u25a1 [\u7169\u8036] \u633d\u001b[K\r\n",
        "  50726 +\u001b[1;30m  \u001b[m12/05 twicekuai    \u25a1 [\u8d85\u5e79]\u001b[K\u001b[11;3H50727  \u001b[1;32m 1\u001b[m12/05 \u001b[1;37mDarius       \u001b[m\u25a1 [\u8d85\u5e79] \u71b1\u5fc3\u767c\u6587\u89e3\u6c7a\u554f\u984c\u001b[K\u001b[12;3H50728 +\u001b[1;30m  \u001b[m12/05 BBgun        \u25a1 [\u9ed1\u7279] \u5225\u518d\u51fa\u4e8b\u4e86!\u001b[K\u001b[13;2H 50729 +\u001b[1;30m  \u001b[m12/05 bobo12       \u25a1 [\u9ed1\u7279]\u001b[K\u001b[14;2H 50730 +\u001b[1;32m 4\u001b[m12/05 \u001b[1;37mcallmeanswer \u001b[m\u25a1 [\u9707\u6012]\u001b[K\u001b[15;2H 50731 +\u001b[1;32m 2\u001b[m12/05 w1230319     \u25a1 [\u9ed1\u7279] \u8981\u4e0a\u73ed\u001b[K\u001b[16;3H50732 +\u001b[1;32m 1\u001b[m12/05 catfishdo    \u25a1 [\u9577\u6068] \u70ba\u4ec0\u9ebc\u001b[K\u001b[17;3H50733 +\u001b[1;30m  \u001b[m12/05 A1ias        \u25a1 \u53ef\u4ee5\u4e0d\u8981\u518d\u5f48\u4e86\u55ce\u001b[K\u001b[18;3H50734 +\u001b[1;30m  \u001b[m12/05 \u001b[1;37mhalloween00  \u001b[m\u25a1 [\u7169\u8036] \u597d\u75db\u001b[K\u001b[19;3H50735 +\u001b[1;32m 2\u001b[m12/05 \u001b[1;37mclair0415    \u001b[m\u25a1 [\u8d85\u5e79] \u5341\u5206\u9418\u4f01\u5283\u001b[K\u001b[20;3H50736 +\u001b[1;32m 2\u001b[m12/05 \u001b[1;37mjusthb0928   \u001b[m\u25a1 [\u7169\u8036] \u53e3\u8a66\u001b[K\r\n",
        "> 50737 +\u001b[1;30m  \u001b[m12/05 \u001b[1;37mBEBOBE       \u001b[m\u25a1 [\u9ed1\u7279] \u9019\u8f29\u5b50\u9084\u50b5\u001b[K\u001b[22;3H\u001b[1;33m  \u2605 \u001b[m !\u001b[1;30m  \u001b[m 4/02 MadeInChina  \u25a1 \u001b[1;37m[\u516c\u544a]\u001b[m \u9ed1\u7279\u677f\u677f\u898f Ver 1.1\u001b[K\u001b[23;2H \u001b[1;33m  \u2605 \u001b[m m\u001b[1;30m  \u001b[m10/13 tigotigo     \u25a1 \u001b[1;37m[\u516c\u544a]\u001b[m Hate\u677f\u533f\u540d\u5e33\u865f-HateOnly\u001b[K\r\n",
        "\u001b[34;46m \u6587\u7ae0\u9078\u8b80 \u001b[30;47m \u001b[31m(y)\u001b[30m\u56de\u61c9\u001b[31m(X)\u001b[30m\u63a8\u6587\u001b[31m(^X)\u001b[30m\u8f49\u9304 \u001b[31m(=[]<>)\u001b[30m\u76f8\u95dc\u4e3b\u984c\u001b[31m(/?a)\u001b[30m\u627e\u6a19\u984c/\u4f5c\u8005 \u001b[31m(b)\u001b[30m\u9032\u677f\u756b\u9762  \u001b[m\u001b[21;1H\n"
       ]
      }
     ],
     "prompt_number": 7
    },
    {
     "cell_type": "code",
     "collapsed": false,
     "input": [
      "# def login_ptt(user, password):\n",
      "#     ptt = telnetlib.Telnet('ptt.cc')\n",
      "#     # Enter the username.\n",
      "#     ptt.write(\"%s\\r\\n\" % str(user))\n",
      "#     # pause a while for server to response.\n",
      "#     time.sleep(1)\n",
      "#     # Enter the password.\n",
      "#     ptt.write(\"%s\\r\\n\" % str(password))\n",
      "#     time.sleep(2)\n",
      "#     # Login!!\n",
      "#     data = ptt.read_very_eager()\n",
      "    \n",
      "#     print data.decode(\"big5\", \"ignore\")\n",
      "# logptt = login_ptt(\"wen777\", \"hsiang\")"
     ],
     "language": "python",
     "metadata": {},
     "outputs": [],
     "prompt_number": 8
    },
    {
     "cell_type": "code",
     "collapsed": false,
     "input": [
      "# p = re.compile(ur'\u6279\u8e22\u8e22\u5be6\u696d\u574a', re.MULTILINE)\n",
      "# print re.search(\"\u6279\u8e22\u8e22\u5be6\u696d\", p)\n",
      "\n",
      "#!/usr/bin/env python\n",
      "#coding=utf-8\n",
      "# s=\"\u4e2d\u6587\"\n",
      "\n",
      "# if isinstance(\"\u6279\u8e22\u8e22\u5be6\u696d\u574a\", unicode):\n",
      "# #s=u\"\u4e2d\u6587\"\n",
      "#     print s.encode('big5')\n",
      "# else:\n",
      "# #s=\"\u4e2d\u6587\"\n",
      "#     print s.decode('utf-8').encode('big5')\n",
      "# print p.match(str(data.decode(\"big5\", \"ignore\")))\n",
      "# print data.decode(\"big5\", \"ignore\")\n",
      "\n",
      "# isinstance(data.decode(\"big5\", \"ignore\"), unicode)\n",
      "# print logptt.data\n",
      "# import sys\n",
      "# print sys.getdefaultencoding()  "
     ],
     "language": "python",
     "metadata": {},
     "outputs": [],
     "prompt_number": 9
    },
    {
     "cell_type": "code",
     "collapsed": false,
     "input": [
      "# Testing for refresh\n",
      "ptt.write(\"\\f\")\n",
      "time.sleep(1)\n",
      "data = ptt.read_very_eager().decode(\"big5\", \"ignore\")\n",
      "print data"
     ],
     "language": "python",
     "metadata": {},
     "outputs": [
      {
       "output_type": "stream",
       "stream": "stdout",
       "text": [
        "\u001b[H\u001b[2J\u001b[1;37;44m\u3010\u677f\u4e3b:tigotigo\u3011                   \u001b[33m\u9ed1\u7279\u677f\u001b[0;1;37;44m                         \u770b\u677f\u300aHate\u300b\r\n",
        "\u001b[m[\u2190]\u96e2\u958b [\u2192]\u95b1\u8b80 [Ctrl-P]\u767c\u8868\u6587\u7ae0 [d]\u522a\u9664 [z]\u7cbe\u83ef\u5340 [i]\u770b\u677f\u8cc7\u8a0a/\u8a2d\u5b9a [h]\u8aaa\u660e\r\n",
        "\u001b[30;47m   \u7de8\u865f    \u65e5 \u671f \u4f5c  \u8005       \u6587  \u7ae0  \u6a19  \u984c                          \u4eba\u6c23:18  \u001b[4;3H\u001b[m50720 +\u001b[1;30m  \u001b[m12/05 yakura       \u25a1 [\u9ed1\u7279]\u001b[5;3H50721 +\u001b[1;30m  \u001b[m12/05 xup62314     \u25a1 [\u8d85\u5e79] \u77ee\u984d\u001b[6;3H50722 +\u001b[1;30m  \u001b[m12/05 TDO17\u001b[6;31H\u25a1 [\u9ed1\u7279]\u001b[7;3H50723 +\u001b[1;32m 7\u001b[m12/05 anc575       \u25a1 [\u9ed1\u7279] ===\u6163\u4f8b.\u8981\u4e0a\u73ed\u4e0a\u8ab2\u7684\u4f86\u7c3d\u5230\u5427===\u001b[8;3H50724 +\u001b[1;32m 1\u001b[m12/05 \u001b[1;37msagem29      \u001b[m\u25a1 [\u7169\u8036] \u597d\u51cd\u554a\uff01\u001b[9;3H50725 +\u001b[1;30m  \u001b[m12/05 \u001b[1;37mrain42       \u001b[m\u25a1 [\u7169\u8036] \u633d\u001b[10;3H50726 +\u001b[1;30m  \u001b[m12/05 twicekuai    \u25a1 [\u8d85\u5e79]\u001b[11;3H50727  \u001b[1;32m 1\u001b[m12/05 \u001b[1;37mDarius       \u001b[m\u25a1 [\u8d85\u5e79] \u71b1\u5fc3\u767c\u6587\u89e3\u6c7a\u554f\u984c\u001b[12;3H50728 +\u001b[1;30m  \u001b[m12/05 BBgun\u001b[12;31H\u25a1 [\u9ed1\u7279] \u5225\u518d\u51fa\u4e8b\u4e86!\u001b[13;3H50729 +\u001b[1;30m  \u001b[m12/05 bobo12       \u25a1 [\u9ed1\u7279]\u001b[14;3H50730 +\u001b[1;32m 4\u001b[m12/05 \u001b[1;37mcallmeanswer \u001b[m\u25a1 [\u9707\u6012]\u001b[15;3H50731 +\u001b[1;32m 2\u001b[m12/05 w1230319     \u25a1 [\u9ed1\u7279] \u8981\u4e0a\u73ed\u001b[16;3H50732 +\u001b[1;32m 1\u001b[m12/05 catfishdo    \u25a1 [\u9577\u6068] \u70ba\u4ec0\u9ebc\u001b[17;3H50733 +\u001b[1;30m  \u001b[m12/05 A1ias\u001b[17;31H\u25a1 \u53ef\u4ee5\u4e0d\u8981\u518d\u5f48\u4e86\u55ce\u001b[18;3H50734 +\u001b[1;30m  \u001b[m12/05 \u001b[1;37mhalloween00  \u001b[m\u25a1 [\u7169\u8036] \u597d\u75db\u001b[19;3H50735 +\u001b[1;32m 2\u001b[m12/05 \u001b[1;37mclair0415    \u001b[m\u25a1 [\u8d85\u5e79] \u5341\u5206\u9418\u4f01\u5283\u001b[20;3H50736 +\u001b[1;32m 2\u001b[m12/05 \u001b[1;37mjusthb0928   \u001b[m\u25a1 [\u7169\u8036] \u53e3\u8a66\r\n",
        "> 50737 +\u001b[1;30m  \u001b[m12/05 \u001b[1;37mBEBOBE       \u001b[m\u25a1 [\u9ed1\u7279] \u9019\u8f29\u5b50\u9084\u50b5\u001b[22;3H\u001b[1;33m  \u2605  \u001b[m!\u001b[1;30m   \u001b[m4/02 MadeInChina  \u25a1 \u001b[1;37m[\u516c\u544a] \u001b[m\u9ed1\u7279\u677f\u677f\u898f Ver 1.1\u001b[23;3H\u001b[1;33m  \u2605  \u001b[mm\u001b[1;30m  \u001b[m10/13 tigotigo     \u25a1 \u001b[1;37m[\u516c\u544a] \u001b[mHate\u677f\u533f\u540d\u5e33\u865f-HateOnly\r\n",
        "\u001b[34;46m \u6587\u7ae0\u9078\u8b80 \u001b[30;47m \u001b[31m(y)\u001b[30m\u56de\u61c9\u001b[31m(X)\u001b[30m\u63a8\u6587\u001b[31m(^X)\u001b[30m\u8f49\u9304 \u001b[31m(=[]<>)\u001b[30m\u76f8\u95dc\u4e3b\u984c\u001b[31m(/?a)\u001b[30m\u627e\u6a19\u984c/\u4f5c\u8005 \u001b[31m(b)\u001b[30m\u9032\u677f\u756b\u9762  \u001b[m\u001b[21;1H\n"
       ]
      }
     ],
     "prompt_number": 11
    },
    {
     "cell_type": "code",
     "collapsed": false,
     "input": [
      "# press right arrow\n",
      "ptt.write(\"\\x27\\r\\n\")\n",
      "time.sleep(1)\n",
      "data = ptt.read_very_eager().decode(\"big5\", \"ignore\")\n",
      "print data"
     ],
     "language": "python",
     "metadata": {},
     "outputs": [
      {
       "output_type": "stream",
       "stream": "stdout",
       "text": [
        "\u001b[H\u001b[34;47m \u4f5c\u8005 \u001b[0;44m BEBOBE (\u903c\u6ce2)                                              \u001b[34;47m \u770b\u677f \u001b[0;44m Hate \u001b[m\u001b[K\r\n",
        "\u001b[34;47m \u6a19\u984c \u001b[0;44m [\u9ed1\u7279] \u9019\u8f29\u5b50\u9084\u50b5                                                      \r\n",
        "\u001b[34;47m \u6642\u9593 \u001b[0;44m Fri Dec  5 10:44:38 2014                                               \u001b[m\u001b[K\r\n",
        "\u001b[36m\u2500\u2500\u2500\u2500\u2500\u2500\u2500\u2500\u2500\u2500\u2500\u2500\u2500\u2500\u2500\u2500\u2500\u2500\u2500\u2500\u2500\u2500\u2500\u2500\u2500\u2500\u2500\u2500\u2500\u2500\u2500\u2500\u2500\u2500\u2500\u2500\u2500\u2500\u2500\r\n",
        "\u001b[m\u001b[K\n",
        "\u6211\u662f\u6211\u5011\u5bb6\u6392\u884c\u8001\u4e8c\u7684\u001b[K\r\n",
        "\u001b[K\n",
        "\u64cd\u6211\u59d0\u597d\u624b\u597d\u8173\u70ba\u4ec0\u9ebc\u4e09\u5c0f\u6240\u6709\u4e8b\u90fd\u662f\u6211\u8b93\u4ed6?!\u001b[K\r\n",
        "\u6211\u53ea\u807d\u904e\u59d0\u59d0\u8b93\u59b9\u59b9\uff0c\u64cd\u4f60\u59b9\u6211\u4e0d\u662f\u4f60\u5011\u5bb6\u751f\u7684\u55ce\uff1f\u504f\u5fc3\u504f\u4e09\u5c0f?\r\n",
        "\u6211\u6709\u5c0d\u4f60\u5011\u6bd4\u8f03\u5dee\u55ce\uff1f\u001b[K\r\n",
        "\u7d50\u679c\u6211\u5f97\u5230\u7684\u662f\u6703\u5bb6\u7206\uff0c\u4e0d\u6eab\u6696\u7684\u5bb6?\u001b[K\r\n",
        "\u6b50\u64cd\u6211\u59d0\u5728\u54ea?\u5979\u4f4f\u5728\u5916\u9762?\u001b[K\r\n",
        "\u56de\u5bb6\u597d\u7684\u90fd\u7d66\u4ed6\uff0c\u58de\u7684\u5206\u4e0d\u5230\u001b[K\r\n",
        "\u6211\u54a7\u597d\u7684\u90fd\u7d66\u5979\u58de\u7684\u90fd\u7559\u7d66\u6211\uff0c\u6211\u5230\u5e95\u4e0a\u8f29\u5b50\u6b20\u4f60\u6bba\u5c0f?\r\n",
        "\u001b[K\n",
        "\u7136\u5f8c\u53c8\u6709\u500b\u5ee2\u5230\u7206\u70b8\u7684\u7537\u670b\u53cb?\u001b[K\r\n",
        "\u4e0d\u8a72\u8166\u7684\u6642\u5019\u800d\u8166\u3002\u001b[K\r\n",
        "\u5c31\u9023\u4f60\u62ff\u8d70\u6211\u7684\u5098\uff0c\u5916\u9762\u4e0b\u96e8\u6211\u52d5\u5f48\u4e0d\u5f97\u8981\u4f60\u63a5\u6211\uff0c\u4f60\u8ddf\u6211\u8aaa\u4e0d\u60f3?!\u8981\u6211\u81ea\u5df1\u7528\u8dd1\u7684!?\r\n",
        "\u99ac\u7684\u4eca\u5929\u4f60\u5982\u679c\u4f4f\u5f88\u9060\u6211\u9ad4\u8ad2\u4f60\u6c92\u5dee...\u001b[K\r\n",
        "\u5e79\u4f60\u4e5f\u624d\u4f4f\u5728\u524d\u9762\u90a3\u500b\u5341\u5b57\u8def\u53e3\u7684\u8def\u4e0a...\u602a\u6211\u611b\u4e82\u767c\u813e\u6c23-.-\u5230\u5e95\u8ab0\u554f\u984c??\r\n",
        "\u5e73\u5e38\u4f60\u88ab\u81ea\u5df1\u7684\u8001\u5e2b\u7f75\u5c31\u7b97\u4e86...\u770b\u5230\u6211\u90a3\u500b\u667a\u969c\u8001\u5e2b\u9023\u6211\u8ddf\u8457\u7f75...\u8aaa\u6211\u4e0d\u76ef\u4f60\u8b80\u66f8\u4e0d\u76ef\r\n",
        "\u4f60\u7d93\u71df\u793e\u5718,\u5e79\u95dc\u6211\u5c41\u4e8b\u6211\u6709\u53eb\u4f60\u64fa\u721b\u55ce?\u81ea\u5df1\u8caa\u73a9\u611b\u73a9\u88ab\u6211\u5538\u7406\u7531\u53c8\u4e00\u5806\uff0c\u8aaa\u6211\u662f\u5728\u7b11\u4f60\r\n",
        "\uff0c\u81ea\u5df1\u4e00\u9ede\u9577\u9032\u90fd\u6c92\u6709\u662f\u4f60\u6d3b\u8a72\u9084\u662f\u6211\u6b20\u4f60?\u001b[K\r\n",
        "\u001b[33;45m  \u700f\u89bd \u7b2c 1/2 \u9801 ( 82%) \u001b[1;30;47m \u76ee\u524d\u986f\u793a: \u7b2c 01~22 \u884c\u001b[0;47m  \u001b[31m(y)\u001b[30m\u56de\u61c9\u001b[31m(X%)\u001b[30m\u63a8\u6587\u001b[31m(h)\u001b[30m\u8aaa\u660e\u001b[31m(\u2190)\u001b[30m\u96e2\u958b\u001b[m\u001b[24;80H\n"
       ]
      }
     ],
     "prompt_number": 13
    },
    {
     "cell_type": "code",
     "collapsed": false,
     "input": [
      "# Press down arrow\n",
      "ptt.write(\"\\x28\\r\\n\")\n",
      "time.sleep(1)\n",
      "data = ptt.read_very_eager().decode(\"big5\", \"ignore\")\n",
      "print data"
     ],
     "language": "python",
     "metadata": {},
     "outputs": [
      {
       "output_type": "stream",
       "stream": "stdout",
       "text": [
        "\u001b[1;2H\u001b[34;47m\u6642\u9593\u001b[1;8H\u001b[0;44mFri Dec  5 10:44:38 2014\r\n",
        "\u001b[0;36m\u2500\u2500\u2500\u2500\u2500\u2500\u2500\u2500\u2500\u2500\u2500\u2500\u2500\u2500\u2500\u2500\u2500\u2500\u2500\u2500\u2500\u2500\u2500\u2500\u2500\u2500\u2500\u2500\u2500\u2500\u2500\u2500\u2500\u2500\u2500\u2500\u2500\u2500\u2500\r\n",
        "\u001b[m\u001b[K\n",
        "\u6211\u662f\u6211\u5011\u5bb6\u6392\u884c\u8001\u4e8c\u7684\r\n",
        "\u001b[K\n",
        "\u64cd\u6211\u59d0\u597d\u624b\u597d\u8173\u70ba\u4ec0\u9ebc\u4e09\u5c0f\u6240\u6709\u4e8b\u90fd\u662f\u6211\u8b93\u4ed6?!\r\n",
        "\u6211\u53ea\u807d\u904e\u59d0\u59d0\u8b93\u59b9\u59b9\uff0c\u64cd\u4f60\u59b9\u6211\u4e0d\u662f\u4f60\u5011\u5bb6\u751f\u7684\u55ce\uff1f\u504f\u5fc3\u504f\u4e09\u5c0f?\u001b[8;3H\u6709\u5c0d\u4f60\u5011\u6bd4\u8f03\u5dee\u55ce\uff1f\u001b[K\r\n",
        "\u7d50\u679c\u6211\u5f97\u5230\u7684\u662f\u6703\u5bb6\u7206\uff0c\u4e0d\u6eab\u6696\u7684\u5bb6?\r\n",
        "\u6b50\u64cd\u6211\u59d0\u5728\u54ea?\u5979\u4f4f\u5728\u5916\u9762?\u001b[K\r\n",
        "\u56de\u5bb6\u597d\u7684\u90fd\u7d66\u4ed6\uff0c\u58de\u7684\u5206\u4e0d\u5230\r\n",
        "\u6211\u54a7\u001b[12;13H\u5979\u58de\u7684\u90fd\u7559\u7d66\u6211\uff0c\u6211\u5230\u5e95\u4e0a\u8f29\u5b50\u6b20\u4f60\u6bba\u5c0f?\r\n",
        "\u001b[K\n",
        "\u7136\u5f8c\u53c8\u6709\u500b\u5ee2\u5230\u7206\u70b8\u7684\u7537\u670b\u53cb?\r\n",
        "\u4e0d\u8a72\u8166\u7684\u6642\u5019\u800d\u8166\u3002\u001b[K\r\n",
        "\u5c31\u9023\u4f60\u62ff\u8d70\u6211\u7684\u5098\uff0c\u5916\u9762\u4e0b\u96e8\u6211\u52d5\u5f48\u4e0d\u5f97\u8981\u4f60\u63a5\u6211\uff0c\u4f60\u8ddf\u6211\u8aaa\u4e0d\u60f3?!\u8981\u6211\u81ea\u5df1\u7528\u8dd1\u7684!?\r\n",
        "\u99ac\u7684\u4eca\u5929\u4f60\u5982\u679c\u4f4f\u5f88\u9060\u6211\u9ad4\u8ad2\u4f60\u6c92\u5dee...\u001b[K\r\n",
        "\u5e79\u4f60\u4e5f\u624d\u4f4f\u5728\u524d\u9762\u90a3\u500b\u5341\u5b57\u8def\u53e3\u7684\u8def\u4e0a...\u602a\u6211\u611b\u4e82\u767c\u813e\u6c23-.-\u5230\u5e95\u8ab0\u554f\u984c??\r\n",
        "\u5e73\u5e38\u4f60\u88ab\u81ea\u5df1\u7684\u8001\u5e2b\u7f75\u5c31\u7b97\u4e86...\u770b\u5230\u6211\u90a3\u500b\u667a\u969c\u8001\u5e2b\u9023\u6211\u8ddf\u8457\u7f75...\u8aaa\u6211\u4e0d\u76ef\u4f60\u8b80\u66f8\u4e0d\u76ef\r\n",
        "\u4f60\u7d93\u71df\u793e\u5718,\u5e79\u95dc\u6211\u5c41\u4e8b\u6211\u6709\u53eb\u4f60\u64fa\u721b\u55ce?\u81ea\u5df1\u8caa\u73a9\u611b\u73a9\u88ab\u6211\u5538\u7406\u7531\u53c8\u4e00\u5806\uff0c\u8aaa\u6211\u662f\u5728\u7b11\u4f60\r\n",
        "\uff0c\u81ea\u5df1\u4e00\u9ede\u9577\u9032\u90fd\u6c92\u6709\u662f\u4f60\u6d3b\u8a72\u9084\u662f\u6211\u6b20\u4f60?\u001b[K\r\n",
        "\u001b[K\n",
        "\u64cd,\u53ef\u4e0d\u53ef\u4ee5\u63db\u4eba\u7576\u554a!\n",
        "\u001b[34;46m4\u001b[24;40H\u001b[1;30;47m3~24\u001b[m\u001b[24;80H\n"
       ]
      }
     ],
     "prompt_number": 15
    },
    {
     "cell_type": "code",
     "collapsed": false,
     "input": [
      "# press left arrow\n",
      "ptt.write(\"\\x25\\r\\n\")\n",
      "time.sleep(1)\n",
      "data = ptt.read_very_eager().decode(\"big5\", \"ignore\")\n",
      "print data"
     ],
     "language": "python",
     "metadata": {},
     "outputs": [
      {
       "output_type": "stream",
       "stream": "stdout",
       "text": [
        "\u001b[H\u001b[1;37;44m\u3010\u677f\u4e3b:tigotigo\u3011                   \u001b[33m\u9ed1\u7279\u677f\u001b[0;1;37;44m                         \u770b\u677f\u300aHate\u300b\r\n",
        "\u001b[m[\u2190]\u96e2\u958b [\u2192]\u95b1\u8b80 [Ctrl-P]\u767c\u8868\u6587\u7ae0 [d]\u522a\u9664 [z]\u7cbe\u83ef\u5340 [i]\u770b\u677f\u8cc7\u8a0a/\u8a2d\u5b9a [h]\u8aaa\u660e\u001b[K\r\n",
        "\u001b[30;47m   \u7de8\u865f    \u65e5 \u671f \u4f5c  \u8005       \u6587  \u7ae0  \u6a19  \u984c                          \u4eba\u6c23:21  \r\n",
        "\u001b[m  50720 +\u001b[1;30m  \u001b[m12/05 yakura       \u25a1 [\u9ed1\u7279]\u001b[5;3H50721 +\u001b[1;30m  \u001b[m12/05 xup62314     \u25a1 [\u8d85\u5e79] \u77ee\u984d\r\n",
        "  50722 +\u001b[1;30m  \u001b[m12/05 TDO17        \u25a1 [\u9ed1\u7279]\u001b[K\r\n",
        "  50723 +\u001b[1;32m 7\u001b[m12/05 anc575       \u25a1 [\u9ed1\u7279] ===\u6163\u4f8b.\u8981\u4e0a\u73ed\u4e0a\u8ab2\u7684\u4f86\u7c3d\u5230\u5427===\r\n",
        "  50724 +\u001b[1;32m 1\u001b[m12/05 \u001b[1;37msagem29      \u001b[m\u25a1 [\u7169\u8036] \u597d\u51cd\u554a\uff01\r\n",
        "  50725 +\u001b[1;30m  \u001b[m12/05 \u001b[1;37mrain42       \u001b[m\u25a1 [\u7169\u8036] \u633d\r\n",
        "  50726 +\u001b[1;30m  \u001b[m12/05 twicekuai    \u25a1 [\u8d85\u5e79]\r\n",
        "  50727  \u001b[1;32m 1\u001b[m12/05 \u001b[1;37mDarius       \u001b[m\u25a1 [\u8d85\u5e79] \u71b1\u5fc3\u767c\u6587\u89e3\u6c7a\u554f\u984c\r\n",
        "  50728 +\u001b[1;30m  \u001b[m12/05 BBgun        \u25a1 [\u9ed1\u7279] \u5225\u518d\u51fa\u4e8b\u4e86!\u001b[13;3H50729 +\u001b[1;30m  \u001b[m12/05 bobo12       \u25a1 [\u9ed1\u7279]\r\n",
        "  50730 +\u001b[1;32m 4\u001b[m12/05 \u001b[1;37mcallmeanswer \u001b[m\u25a1 [\u9707\u6012]\r\n",
        "  50731 +\u001b[1;32m 2\u001b[m12/05 w1230319     \u25a1 [\u9ed1\u7279] \u8981\u4e0a\u73ed\r\n",
        "  50732 +\u001b[1;32m 1\u001b[m12/05 catfishdo    \u25a1 [\u9577\u6068] \u70ba\u4ec0\u9ebc\u001b[K\r\n",
        "  50733 +\u001b[1;30m  \u001b[m12/05 A1ias        \u25a1 \u53ef\u4ee5\u4e0d\u8981\u518d\u5f48\u4e86\u55ce\r\n",
        "  50734 +\u001b[1;30m  \u001b[m12/05 \u001b[1;37mhalloween00  \u001b[m\u25a1 [\u7169\u8036] \u597d\u75db\u001b[K\r\n",
        "  50735 +\u001b[1;32m 2\u001b[m12/05 \u001b[1;37mclair0415    \u001b[m\u25a1 [\u8d85\u5e79] \u5341\u5206\u9418\u4f01\u5283\u001b[K\r\n",
        "  50736 +\u001b[1;32m 2\u001b[m12/05 \u001b[1;37mjusthb0928   \u001b[m\u25a1 [\u7169\u8036] \u53e3\u8a66\u001b[K\r\n",
        "> 50737  \u001b[1;30m  \u001b[m12/05 \u001b[1;37mBEBOBE       \u001b[31m\u25a1 [\u9ed1\u7279] \u9019\u8f29\u5b50\u9084\u50b5\u001b[22;3H\u001b[33m  \u2605  \u001b[m!\u001b[1;30m   \u001b[m4/02 MadeInChina  \u25a1 \u001b[1;37m[\u516c\u544a] \u001b[m\u9ed1\u7279\u677f\u677f\u898f Ver 1.1\r\n",
        "  \u001b[1;33m  \u2605 \u001b[m m\u001b[1;30m  \u001b[m10/13 tigotigo     \u25a1 \u001b[1;37m[\u516c\u544a] \u001b[mHate\u677f\u533f\u540d\u5e33\u865f-HateOnly\u001b[24;2H\u001b[34;46m\u6587\u7ae0\u9078\u8b80 \u001b[30;47m \u001b[31m(y)\u001b[30m\u56de\u61c9\u001b[31m(X)\u001b[30m\u63a8\u6587\u001b[31m(^X)\u001b[30m\u8f49\u9304 \u001b[31m(=[]<>)\u001b[30m\u76f8\u95dc\u4e3b\u984c\u001b[31m(/?a)\u001b[30m\u627e\u6a19\u984c/\u4f5c\u8005 \u001b[31m(b)\u001b[30m\u9032\u677f\u756b\u9762 \u001b[m\u001b[21;1H\n"
       ]
      }
     ],
     "prompt_number": 16
    },
    {
     "cell_type": "code",
     "collapsed": false,
     "input": [
      "# Jump to article number 50490\n",
      "ptt.write(\"50490\\r\\n\")\n",
      "time.sleep(1)\n",
      "data = ptt.read_very_eager().decode(\"big5\", \"ignore\")\n",
      "print data"
     ],
     "language": "python",
     "metadata": {},
     "outputs": [
      {
       "output_type": "stream",
       "stream": "stdout",
       "text": [
        "\u001b[4;5H480    12/03 -     \u001b[4;34H(\u672c\u6587\u5df2\u88ab\u522a\u9664) [Santander]\u001b[5;5H481  \u001b[1;32m 1\u001b[5;16H\u001b[m3 -       \u001b[5;34H(\u672c\u6587\u5df2\u88ab\u522a\u9664) [seedchris]\u001b[6;5H48\u001b[6;16H3 w324eva\u001b[6;35H\u7169\u8036\u001b[7;5H483 +\u001b[1;30m  \u001b[7;16H\u001b[m3 \u001b[1;37mtomdanny75   \u001b[7;35H\u001b[m\u706b\u5927] \u8981\u4e0d\u7136\u5462\u001b[K\u001b[8;5H484 +\u001b[1;30m  \u001b[8;16H\u001b[m3 \u001b[1;37mrain42 \u001b[8;35H\u001b[m\u706b\u5927] \u5feb\u6539\u001b[K\u001b[9;5H48\u001b[9;16H3 dinayogi11   \u25a1 [\u706b\u5927] \u95dc\u9580\u5c31\u4e0d\u80fd\u5c0f\u529b\u4e00\u9ede\u55ce\uff1f\u6de6!!!!\u001b[10;5H48\u001b[10;16H3 james20591   \u25a1 [\u592d\u58fd] \u8cac\u4efb\u5236\u001b[11;5H487 + \u001b[1;32m6\u001b[11;16H\u001b[m3 YaPTT        \u25a1 [\u9ed1\u7279] ===\u6163\u4f8b.\u8981\u5c31\u5be2\u665a\u5b89\u7684\u4f86\u7c3d\u5230\u5427===\u001b[12;5H488 +\u001b[1;32m 1\u001b[12;16H\u001b[m3 noviayli\u001b[12;35H\u7169\u8036] \u8d8a\u4f86\u8d8a\u6d88\u8cbb\u4e0d\u8d77\uff01\uff01\u001b[13;5H489 +\u001b[1;32m 2\u001b[13;16H\u001b[m3 lilian555\u001b[13;41H\u751f\u6d3b\u7121\u8da3\r\n",
        "> 50490  \u001b[1;30m  \u001b[14;16H\u001b[m3 w324eva      \u25a1 [\u7169\u8036\u001b[15;5H491 +\u001b[1;30m  \u001b[15;16H\u001b[m3 misa9115\u001b[15;41H\u6211\u5011\u7684\u6bd4\u5e02\u9762\u4e00\u822c\u7684\u90fd\u9084\u5927\u7247<3\u001b[16;5H492 +\u001b[1;30m  \u001b[16;16H\u001b[m3 weeen    \u001b[16;35H\u9ed1\u7279] \u51f8\u2609\u76bf\u2609\u51f8\u001b[17;5H493  \u001b[1;32m 4\u001b[17;16H\u001b[m3 -    \u001b[17;34H(\u672c\u6587\u5df2\u88ab\u522a\u9664) [abeak]\u001b[18;5H49\u001b[18;16H3 hoifly       \u25a1 [\u9ed1\u7279] \u4f60\u8aaa\u8aaa\u770b\u001b[19;5H495 +\u001b[1;30m  \u001b[19;16H\u001b[m3 peja1022     \u001b[19;41H\u5ee2\u7269\u001b[K\u001b[20;5H496 +\u001b[1;30m  \u001b[20;16H\u001b[m3 optimism118  \u25a1 [\u9ed1\u7279\u001b[20;40H\u001b[K\r\n",
        "  50497 +  12/03 mango76      \u25a1 [\u9b31\u60b6] \u771f\u7684\u597d\u55ce\u001b[K\u001b[22;3H50498 +  12/03 wei1992      \u25a1 [\u7169\u8036] \u8003\u8a66\u001b[K\u001b[23;3H50499 +\u001b[1;32m 7\u001b[23;13H\u001b[m2/04 rabbitivy    \u25a1 [\u9ed1\u7279] \u795d\u6211\u751f\u65e5\u80fd\u5feb\u6a02\u001b[K\u001b[14;1H\n"
       ]
      }
     ],
     "prompt_number": 17
    },
    {
     "cell_type": "code",
     "collapsed": false,
     "input": [
      "# Press enter to see the article\n",
      "ptt.write(\"\\r\\n\")\n",
      "time.sleep(1)\n",
      "data = ptt.read_very_eager().decode(\"big5\", \"ignore\")\n",
      "print data"
     ],
     "language": "python",
     "metadata": {},
     "outputs": [
      {
       "output_type": "stream",
       "stream": "stdout",
       "text": [
        "\u001b[H\u001b[34;47m \u4f5c\u8005 \u001b[0;44m w324eva (Lily Allen)                                       \u001b[34;47m \u770b\u677f \u001b[0;44m Hate \u001b[m\u001b[K\r\n",
        "\u001b[34;47m \u6a19\u984c \u001b[0;44m [\u7169\u8036]                                                                 \r\n",
        "\u001b[34;47m \u6642\u9593 \u001b[0;44m Wed Dec  3 23:26:35 2014                                               \u001b[m\u001b[K\r\n",
        "\u001b[36m\u2500\u2500\u2500\u2500\u2500\u2500\u2500\u2500\u2500\u2500\u2500\u2500\u2500\u2500\u2500\u2500\u2500\u2500\u2500\u2500\u2500\u2500\u2500\u2500\u2500\u2500\u2500\u2500\u2500\u2500\u2500\u2500\u2500\u2500\u2500\u2500\u2500\u2500\u2500\r\n",
        "\u001b[m\u001b[K\n",
        "\u5982\u679c\u4f60\u5728\u8eab\u908a\u5c31\u597d\u4e86\u001b[K\r\n",
        "\u6709\u7684\u6642\u5019\u6211\u662f\u9019\u9ebc\u60f3\u7684\u001b[K\r\n",
        "\u001b[K\n",
        "\u001b[K\n",
        "\u001b[K\n",
        "\u5509\u001b[K\r\n",
        "\u89ba\u5f97\u7d2f\u001b[K\r\n",
        "\u7121\u529b\u61c9\u4ed8\u001b[K\r\n",
        "\u001b[K\n",
        "--\u001b[K\r\n",
        "Sent from my Android\u001b[K\r\n",
        "\u001b[K\n",
        "--\u001b[K\r\n",
        "\u001b[32m\u203b \u767c\u4fe1\u7ad9: \u6279\u8e22\u8e22\u5be6\u696d\u574a(ptt.cc), \u4f86\u81ea: 101.12.17.26\r\n",
        "\u203b \u6587\u7ae0\u7db2\u5740: http://www.ptt.cc/bbs/Hate/M.1417620397.A.891.html\r\n",
        "\u001b[m\u001b[K\n",
        "\u001b[K\n",
        "\u001b[K\n",
        "\u001b[44m  \u700f\u89bd \u7b2c 1/1 \u9801 (100%) \u001b[1;30;47m \u76ee\u524d\u986f\u793a: \u7b2c 01~19 \u884c\u001b[0;47m  \u001b[31m(y)\u001b[30m\u56de\u61c9\u001b[31m(X%)\u001b[30m\u63a8\u6587\u001b[31m(h)\u001b[30m\u8aaa\u660e\u001b[31m(\u2190)\u001b[30m\u96e2\u958b\u001b[m\u001b[24;80H\n"
       ]
      }
     ],
     "prompt_number": 18
    },
    {
     "cell_type": "code",
     "collapsed": false,
     "input": [
      "# # get out again.\n",
      "ptt.write(\"\\x25\\r\\n\")\n",
      "time.sleep(1)\n",
      "data = ptt.read_very_eager().decode(\"big5\", \"ignore\")\n",
      "print data"
     ],
     "language": "python",
     "metadata": {},
     "outputs": [
      {
       "output_type": "stream",
       "stream": "stdout",
       "text": [
        "\u001b[H\u001b[1;37;44m\u3010\u677f\u4e3b:tigotigo\u3011                   \u001b[33m\u9ed1\u7279\u677f\u001b[0;1;37;44m                         \u770b\u677f\u300aHate\u300b\r\n",
        "\u001b[m[\u2190]\u96e2\u958b [\u2192]\u95b1\u8b80 [Ctrl-P]\u767c\u8868\u6587\u7ae0 [d]\u522a\u9664 [z]\u7cbe\u83ef\u5340 [i]\u770b\u677f\u8cc7\u8a0a/\u8a2d\u5b9a [h]\u8aaa\u660e\u001b[K\r\n",
        "\u001b[30;47m   \u7de8\u865f    \u65e5 \u671f \u4f5c  \u8005       \u6587  \u7ae0  \u6a19  \u984c                          \u4eba\u6c23:22  \r\n",
        "\u001b[m  50480  \u001b[1;30m  \u001b[m12/03 -            \u25a1 (\u672c\u6587\u5df2\u88ab\u522a\u9664) [Santander]\u001b[K\u001b[5;3H50481  \u001b[1;32m 1\u001b[m12/03 -\u001b[5;31H\u25a1 (\u672c\u6587\u5df2\u88ab\u522a\u9664) [seedchris]\r\n",
        "  50482 +\u001b[1;30m  \u001b[m12/03 w324eva      \u001b[1;31m\u25a1 [\u7169\u8036] \r\n",
        "\u001b[m  50483 +\u001b[1;30m  \u001b[m12/03 \u001b[1;37mtomdanny75   \u001b[m\u25a1 [\u706b\u5927] \u8981\u4e0d\u7136\u5462\u001b[8;3H50484 +\u001b[1;30m  \u001b[m12/03 \u001b[1;37mrain42       \u001b[m\u25a1 [\u706b\u5927] \u5feb\u6539\u001b[9;3H50485 +\u001b[1;30m  \u001b[m12/03 dinayogi11   \u25a1 [\u706b\u5927] \u95dc\u9580\u5c31\u4e0d\u80fd\u5c0f\u529b\u4e00\u9ede\u55ce\uff1f\u6de6!!!!\u001b[10;3H50486 +\u001b[1;30m  \u001b[m12/03 james20591   \u25a1 [\u592d\u58fd] \u8cac\u4efb\u5236\r\n",
        "  50487 +\u001b[1;32m 6\u001b[m12/03 YaPTT\u001b[11;31H\u25a1 [\u9ed1\u7279] ===\u6163\u4f8b.\u8981\u5c31\u5be2\u665a\u5b89\u7684\u4f86\u7c3d\u5230\u5427===\r\n",
        "  50488 +\u001b[1;32m 1\u001b[m12/03 noviayli     \u25a1 [\u7169\u8036] \u8d8a\u4f86\u8d8a\u6d88\u8cbb\u4e0d\u8d77\uff01\uff01\r\n",
        "  50489 +\u001b[1;32m 2\u001b[m12/03 lilian555    \u25a1 [\u9ed1\u7279] \u751f\u6d3b\u7121\u8da3\r\n",
        "> 50490  \u001b[1;30m  \u001b[m12/03 w324eva      \u001b[1;31m\u25a1 [\u7169\u8036] \r\n",
        "\u001b[m  50491 +\u001b[1;30m  \u001b[m12/03 misa9115     \u25a1 [\u9ed1\u7279] \u6211\u5011\u7684\u6bd4\u5e02\u9762\u4e00\u822c\u7684\u90fd\u9084\u5927\u7247<3\r\n",
        "  50492 +\u001b[1;30m  \u001b[m12/03 weeen\u001b[16;31H\u25a1 [\u9ed1\u7279] \u51f8\u2609\u76bf\u2609\u51f8\u001b[17;3H50493  \u001b[1;32m 4\u001b[m12/03 -\u001b[17;31H\u25a1 (\u672c\u6587\u5df2\u88ab\u522a\u9664) [abeak]\r\n",
        "  50494 +\u001b[1;30m  \u001b[m12/03 hoifly       \u25a1 [\u9ed1\u7279] \u4f60\u8aaa\u8aaa\u770b\r\n",
        "  50495 +\u001b[1;30m  \u001b[m12/03 peja1022     \u25a1 [\u8d85\u5e79] \u5ee2\u7269\u001b[K\r\n",
        "  50496 +\u001b[1;30m  \u001b[m12/03 optimism118  \u25a1 [\u9ed1\u7279]\u001b[K\u001b[21;3H50497 +\u001b[1;30m  \u001b[m12/03 mango76      \u25a1 [\u9b31\u60b6] \u771f\u7684\u597d\u55ce\u001b[22;3H50498 +\u001b[1;30m  \u001b[m12/03 wei1992      \u25a1 [\u7169\u8036] \u8003\u8a66\u001b[23;3H50499 +\u001b[1;32m 7\u001b[m12/04 rabbitivy    \u25a1 [\u9ed1\u7279] \u795d\u6211\u751f\u65e5\u80fd\u5feb\u6a02\r\n",
        "\u001b[34;46m \u6587\u7ae0\u9078\u8b80 \u001b[30;47m \u001b[31m(y)\u001b[30m\u56de\u61c9\u001b[31m(X)\u001b[30m\u63a8\u6587\u001b[31m(^X)\u001b[30m\u8f49\u9304 \u001b[31m(=[]<>)\u001b[30m\u76f8\u95dc\u4e3b\u984c\u001b[31m(/?a)\u001b[30m\u627e\u6a19\u984c/\u4f5c\u8005 \u001b[31m(b)\u001b[30m\u9032\u677f\u756b\u9762 \u001b[m\u001b[14;1H\n"
       ]
      }
     ],
     "prompt_number": 19
    },
    {
     "cell_type": "code",
     "collapsed": false,
     "input": [
      "# # \u9084\u6c92\u5305\u6210\u7684\u6771\u897f XDDD\n",
      "\n",
      "# import telnetlib\n",
      "# import time\n",
      "\n",
      "# class PyManConnection(object):\n",
      "#     \"\"\"\n",
      "#     A class of minimal implement PCMan in python.\n",
      "#     \"\"\"\n",
      "#     keys = {\"left\":\"\\x25\",\n",
      "#             \"up\":\"\\x26\",\n",
      "#             \"right\":\"\\x27\",\n",
      "#             \"down\":\"\\x28\"}\n",
      "    \n",
      "#     def __init__(self, host):\n",
      "#         self.host = host\n",
      "#         self._connect = telnetlib.Telnet(host)\n",
      "#         self._data = self._connect.read_very_eager().decode(\"big5\", \"ignore\")\n",
      "        \n",
      "#     def show(self):\n",
      "#         self.refresh()\n",
      "#         self._data = self._connect.read_very_eager().decode(\"big5\", \"ignore\")\n",
      "#         print self._data\n",
      "        \n",
      "#     def get_current_page(self):\n",
      "#         return self._data\n",
      "        \n",
      "#     def reconnect(self):\n",
      "#         self._connect = telnetlib.Telnet(self.host)\n",
      "        \n",
      "#     def refresh(self):\n",
      "#         self._connect.write(\"\\f\")\n",
      "#         self._data = self._connect.read_very_eager().decode(\"big5\", \"ignore\")\n",
      "#         return self._data"
     ],
     "language": "python",
     "metadata": {},
     "outputs": [],
     "prompt_number": 3
    },
    {
     "cell_type": "code",
     "collapsed": false,
     "input": [
      "# ptt_test = PyManConnection(\"ptt.cc\")"
     ],
     "language": "python",
     "metadata": {},
     "outputs": [
      {
       "ename": "NameError",
       "evalue": "name 'PyManConnection' is not defined",
       "output_type": "pyerr",
       "traceback": [
        "\u001b[1;31m---------------------------------------------------------------------------\u001b[0m\n\u001b[1;31mNameError\u001b[0m                                 Traceback (most recent call last)",
        "\u001b[1;32m<ipython-input-16-11a542a1eb9a>\u001b[0m in \u001b[0;36m<module>\u001b[1;34m()\u001b[0m\n\u001b[1;32m----> 1\u001b[1;33m \u001b[0mptt_test\u001b[0m \u001b[1;33m=\u001b[0m \u001b[0mPyManConnection\u001b[0m\u001b[1;33m(\u001b[0m\u001b[1;34m\"ptt.cc\"\u001b[0m\u001b[1;33m)\u001b[0m\u001b[1;33m\u001b[0m\u001b[0m\n\u001b[0m",
        "\u001b[1;31mNameError\u001b[0m: name 'PyManConnection' is not defined"
       ]
      }
     ],
     "prompt_number": 16
    },
    {
     "cell_type": "code",
     "collapsed": false,
     "input": [
      "# print ptt_test.get_current_page()"
     ],
     "language": "python",
     "metadata": {},
     "outputs": [],
     "prompt_number": 2
    },
    {
     "cell_type": "code",
     "collapsed": false,
     "input": [
      "# # get out again.\n",
      "# ptt.write(\"\\r\\n\")\n",
      "# # ptt.write(\"\\x25\\r\\n\")\n",
      "# time.sleep(1)\n",
      "# data = ptt.read_very_eager().decode(\"big5\", \"ignore\")\n",
      "# # print list(data)\n",
      "# print data"
     ],
     "language": "python",
     "metadata": {},
     "outputs": [],
     "prompt_number": 1
    },
    {
     "cell_type": "code",
     "collapsed": false,
     "input": [
      "# print data[12:16]\n",
      "# print data[91:95]\n",
      "# # One line is 116 chracter\n",
      "# article =  data[102:106]\n",
      "# print article"
     ],
     "language": "python",
     "metadata": {},
     "outputs": [],
     "prompt_number": 13
    },
    {
     "cell_type": "code",
     "collapsed": false,
     "input": [
      "# print data"
     ],
     "language": "python",
     "metadata": {},
     "outputs": [],
     "prompt_number": 12
    }
   ],
   "metadata": {}
  }
 ]
}