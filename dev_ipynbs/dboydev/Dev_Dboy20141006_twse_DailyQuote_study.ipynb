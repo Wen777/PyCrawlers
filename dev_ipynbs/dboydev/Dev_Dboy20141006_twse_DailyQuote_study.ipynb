{
 "metadata": {
  "name": "",
  "signature": "sha256:231f06dfc62a20838a3d2cf230b10c653734ee89b72a89a2497064d583391f9d"
 },
 "nbformat": 3,
 "nbformat_minor": 0,
 "worksheets": [
  {
   "cells": [
    {
     "cell_type": "markdown",
     "metadata": {},
     "source": [
      "## Initial development enviroment"
     ]
    },
    {
     "cell_type": "code",
     "collapsed": false,
     "input": [
      "import pandas as pd\n",
      "from pandas.io.parsers import StringIO\n",
      "import numpy as np\n",
      "from pyquery import PyQuery\n",
      "import requests\n",
      "import re\n",
      "import csv"
     ],
     "language": "python",
     "metadata": {},
     "outputs": [],
     "prompt_number": 1
    },
    {
     "cell_type": "markdown",
     "metadata": {},
     "source": [
      "## Download data in csv by url."
     ]
    },
    {
     "cell_type": "code",
     "collapsed": false,
     "input": [
      "url = \"http://www.twse.com.tw/en/trading/exchange/MI_INDEX/MI_INDEX3_print.php?genpage=genpage/Report{year}{month}/A112{year}{month}{day}ALLBUT0999_1.php&type=csv\""
     ],
     "language": "python",
     "metadata": {},
     "outputs": [],
     "prompt_number": 2
    },
    {
     "cell_type": "markdown",
     "metadata": {},
     "source": [
      "## Set up what date you want to crawler"
     ]
    },
    {
     "cell_type": "code",
     "collapsed": false,
     "input": [
      "date = \"2014/11/03\"\n",
      "year, month, day = date.split(\"/\")"
     ],
     "language": "python",
     "metadata": {},
     "outputs": [],
     "prompt_number": 3
    },
    {
     "cell_type": "markdown",
     "metadata": {},
     "source": [
      "## Use requests module to get the data from url"
     ]
    },
    {
     "cell_type": "code",
     "collapsed": false,
     "input": [
      "res = requests.get(url.format(year = year, month = month, day = day))"
     ],
     "language": "python",
     "metadata": {},
     "outputs": [],
     "prompt_number": 4
    },
    {
     "cell_type": "markdown",
     "metadata": {},
     "source": [
      "## Print and Check"
     ]
    },
    {
     "cell_type": "code",
     "collapsed": false,
     "input": [
      "res.text[:1000]"
     ],
     "language": "python",
     "metadata": {},
     "outputs": [
      {
       "metadata": {},
       "output_type": "pyout",
       "prompt_number": 5,
       "text": [
        "u'2014/11/03 Market Summary\\nIndex,Closing Index,Dir(+/-),Change,Change(%)\\nFormosa Index,\"10,424.88\",\\xa1\\xcf,44.71,0.43\\nTAIEX,\"9,004.86\",\\xa1\\xcf,30.10,0.34\\nFTSE TWSE Taiwan 50 Index,\"6,572.20\",\\xa1\\xcf,25.44,0.39\\nFTSE TWSE Taiwan Mid-Cap 100 Index,\"7,129.20\",\\xa1\\xcf,29.95,0.42\\nFTSE TWSE Taiwan Technology Index,\"7,621.46\",\\xa1\\xcf,39.68,0.52\\nFTSE TWSE Taiwan Eight Industries Index,\"7,808.38\",\\xa1\\xcf,34.13,0.44\\nFTSE TWSE Taiwan Dividend+ Index,\"5,642.40\",\\xa1\\xcf,28.66,0.51\\nTaiwan RAFI&reg; EMP 99 Index,\"5,408.38\",\\xa1\\xcf,9.86,0.18\\nTaiwan HC 100 Index,\"5,019.12\",\\xa1\\xcf,12.02,0.24\\nTaiwan CO 101 Index,\"5,800.89\",\\xa1\\xcf,15.23,0.26\\nS&P/TWSE Taiwan Low Volatility High Dividend Index,\"1,398.78\",\\xa1\\xd0,0.49,-0.04\\nNon-Finance Sub-index,\"7,533.21\",\\xa1\\xcf,30.29,0.40\\nNon-Electronics Sub-index,\"13,033.42\",\\xa1\\xd0,0.43,-0.00\\nNon-Finance Non-Electronics Sub-index,\"11,033.28\",\\xa1\\xcf,2.79,0.03\\nCement and Ceramic,595.10,\\xa1\\xcf,0.86,0.14\\nPlastic and Chemical,774.04,\\xa1\\xcf,3.86,0.50\\nElectrical,\"1,994.95\",\\xa1\\xcf,12.28,0.62\\nCement,152.12,\\xa1\\xcf,0.26,0.17\\nFood,\"1,217.91\",\\xa1\\xd0,7.25,-0.59\\nPlastic,2'"
       ]
      }
     ],
     "prompt_number": 5
    },
    {
     "cell_type": "markdown",
     "metadata": {},
     "source": [
      "## Check the decode method of this data"
     ]
    },
    {
     "cell_type": "code",
     "collapsed": false,
     "input": [
      "res.encoding"
     ],
     "language": "python",
     "metadata": {},
     "outputs": [
      {
       "metadata": {},
       "output_type": "pyout",
       "prompt_number": 6,
       "text": [
        "'ISO-8859-1'"
       ]
      }
     ],
     "prompt_number": 6
    },
    {
     "cell_type": "markdown",
     "metadata": {},
     "source": [
      "## Set up the correct encoding method."
     ]
    },
    {
     "cell_type": "code",
     "collapsed": false,
     "input": [
      "res.encoding = \"big5\""
     ],
     "language": "python",
     "metadata": {},
     "outputs": [],
     "prompt_number": 7
    },
    {
     "cell_type": "markdown",
     "metadata": {},
     "source": [
      "## Show the encoding result"
     ]
    },
    {
     "cell_type": "code",
     "collapsed": false,
     "input": [
      "print res.text[:200]"
     ],
     "language": "python",
     "metadata": {},
     "outputs": [
      {
       "output_type": "stream",
       "stream": "stdout",
       "text": [
        "2014/11/03 Market Summary\n",
        "Index,Closing Index,Dir(+/-),Change,Change(%)\n",
        "Formosa Index,\"10,424.88\",\uff0b,44.71,0.43\n",
        "TAIEX,\"9,004.86\",\uff0b,30.10,0.34\n",
        "FTSE TWSE Taiwan 50 Index,\"6,572.20\",\uff0b,25.44,0.39\n",
        "FTSE TWSE\n"
       ]
      }
     ],
     "prompt_number": 8
    },
    {
     "cell_type": "markdown",
     "metadata": {},
     "source": [
      "## Open the res in text data type by StringIO module."
     ]
    },
    {
     "cell_type": "code",
     "collapsed": false,
     "input": [
      "csvfile = StringIO(res.text)"
     ],
     "language": "python",
     "metadata": {},
     "outputs": [],
     "prompt_number": 9
    },
    {
     "cell_type": "markdown",
     "metadata": {},
     "source": [
      "## Use csv module reader method to read csv"
     ]
    },
    {
     "cell_type": "code",
     "collapsed": false,
     "input": [
      "csv_string = csv.reader(csvfile)"
     ],
     "language": "python",
     "metadata": {},
     "outputs": [],
     "prompt_number": 10
    },
    {
     "cell_type": "markdown",
     "metadata": {},
     "source": [
      "## Got encoding problem"
     ]
    },
    {
     "cell_type": "code",
     "collapsed": false,
     "input": [
      "rows_list = list(csv_string)"
     ],
     "language": "python",
     "metadata": {},
     "outputs": [
      {
       "ename": "UnicodeEncodeError",
       "evalue": "'ascii' codec can't encode character u'\\uff0b' in position 26: ordinal not in range(128)",
       "output_type": "pyerr",
       "traceback": [
        "\u001b[1;31m---------------------------------------------------------------------------\u001b[0m\n\u001b[1;31mUnicodeEncodeError\u001b[0m                        Traceback (most recent call last)",
        "\u001b[1;32m<ipython-input-11-55748e0d6757>\u001b[0m in \u001b[0;36m<module>\u001b[1;34m()\u001b[0m\n\u001b[1;32m----> 1\u001b[1;33m \u001b[0mrows_list\u001b[0m \u001b[1;33m=\u001b[0m \u001b[0mlist\u001b[0m\u001b[1;33m(\u001b[0m\u001b[0mcsv_string\u001b[0m\u001b[1;33m)\u001b[0m\u001b[1;33m\u001b[0m\u001b[0m\n\u001b[0m",
        "\u001b[1;31mUnicodeEncodeError\u001b[0m: 'ascii' codec can't encode character u'\\uff0b' in position 26: ordinal not in range(128)"
       ]
      }
     ],
     "prompt_number": 11
    },
    {
     "cell_type": "markdown",
     "metadata": {},
     "source": [
      "## Replace specfic words to uniform decoding type"
     ]
    },
    {
     "cell_type": "code",
     "collapsed": false,
     "input": [
      "csv_string = res.text.replace(u'\\uff0b',u\"+\").replace(u'\\uff0d',u\"-\").replace(u'\\uff1a',u\":\").replace(u'\\u2019',\"`\")"
     ],
     "language": "python",
     "metadata": {},
     "outputs": [],
     "prompt_number": 12
    },
    {
     "cell_type": "markdown",
     "metadata": {},
     "source": [
      "## Re-open the data"
     ]
    },
    {
     "cell_type": "code",
     "collapsed": false,
     "input": [
      "csvfile = StringIO(csv_string)"
     ],
     "language": "python",
     "metadata": {},
     "outputs": [],
     "prompt_number": 13
    },
    {
     "cell_type": "code",
     "collapsed": false,
     "input": [
      "rows_list = list(csv.reader(csvfile))"
     ],
     "language": "python",
     "metadata": {},
     "outputs": [],
     "prompt_number": 14
    },
    {
     "cell_type": "markdown",
     "metadata": {},
     "source": [
      "## Check rows_list"
     ]
    },
    {
     "cell_type": "code",
     "collapsed": false,
     "input": [
      "rows_list[:20]"
     ],
     "language": "python",
     "metadata": {},
     "outputs": [
      {
       "metadata": {},
       "output_type": "pyout",
       "prompt_number": 15,
       "text": [
        "[['2014/11/03 Market Summary'],\n",
        " ['Index', 'Closing Index', 'Dir(+/-)', 'Change', 'Change(%)'],\n",
        " ['Formosa Index', '10,424.88', '+', '44.71', '0.43'],\n",
        " ['TAIEX', '9,004.86', '+', '30.10', '0.34'],\n",
        " ['FTSE TWSE Taiwan 50 Index', '6,572.20', '+', '25.44', '0.39'],\n",
        " ['FTSE TWSE Taiwan Mid-Cap 100 Index', '7,129.20', '+', '29.95', '0.42'],\n",
        " ['FTSE TWSE Taiwan Technology Index', '7,621.46', '+', '39.68', '0.52'],\n",
        " ['FTSE TWSE Taiwan Eight Industries Index', '7,808.38', '+', '34.13', '0.44'],\n",
        " ['FTSE TWSE Taiwan Dividend+ Index', '5,642.40', '+', '28.66', '0.51'],\n",
        " ['Taiwan RAFI&reg; EMP 99 Index', '5,408.38', '+', '9.86', '0.18'],\n",
        " ['Taiwan HC 100 Index', '5,019.12', '+', '12.02', '0.24'],\n",
        " ['Taiwan CO 101 Index', '5,800.89', '+', '15.23', '0.26'],\n",
        " ['S&P/TWSE Taiwan Low Volatility High Dividend Index',\n",
        "  '1,398.78',\n",
        "  '-',\n",
        "  '0.49',\n",
        "  '-0.04'],\n",
        " ['Non-Finance Sub-index', '7,533.21', '+', '30.29', '0.40'],\n",
        " ['Non-Electronics Sub-index', '13,033.42', '-', '0.43', '-0.00'],\n",
        " ['Non-Finance Non-Electronics Sub-index', '11,033.28', '+', '2.79', '0.03'],\n",
        " ['Cement and Ceramic', '595.10', '+', '0.86', '0.14'],\n",
        " ['Plastic and Chemical', '774.04', '+', '3.86', '0.50'],\n",
        " ['Electrical', '1,994.95', '+', '12.28', '0.62'],\n",
        " ['Cement', '152.12', '+', '0.26', '0.17']]"
       ]
      }
     ],
     "prompt_number": 15
    },
    {
     "cell_type": "markdown",
     "metadata": {},
     "source": [
      "## Check rows_list each item's length. Constructing unordered collections of unique elements."
     ]
    },
    {
     "cell_type": "markdown",
     "metadata": {},
     "source": [
      "map(len,rows_list)"
     ]
    },
    {
     "cell_type": "code",
     "collapsed": false,
     "input": [
      "set(map(len,rows_list))"
     ],
     "language": "python",
     "metadata": {},
     "outputs": [
      {
       "metadata": {},
       "output_type": "pyout",
       "prompt_number": 16,
       "text": [
        "{1, 2, 3, 4, 5, 15}"
       ]
      }
     ],
     "prompt_number": 16
    },
    {
     "cell_type": "markdown",
     "metadata": {},
     "source": [
      "## Only Catch the data which lenth over 15"
     ]
    },
    {
     "cell_type": "code",
     "collapsed": false,
     "input": [
      "len15_data = [one_row for one_row in rows_list if len(one_row) ==15]"
     ],
     "language": "python",
     "metadata": {},
     "outputs": [],
     "prompt_number": 17
    },
    {
     "cell_type": "markdown",
     "metadata": {},
     "source": [
      "## Plot the len15_data. But there are some useless sign at the data list. Just like \"+\", \"=\"..."
     ]
    },
    {
     "cell_type": "code",
     "collapsed": false,
     "input": [
      "df = pd.DataFrame(len15_data[1:], columns=len15_data[0])\n",
      "df.head()"
     ],
     "language": "python",
     "metadata": {},
     "outputs": [
      {
       "html": [
        "<div style=\"max-height:1000px;max-width:1500px;overflow:auto;\">\n",
        "<table border=\"1\" class=\"dataframe\">\n",
        "  <thead>\n",
        "    <tr style=\"text-align: right;\">\n",
        "      <th></th>\n",
        "      <th>Security Code</th>\n",
        "      <th>Trade Volume</th>\n",
        "      <th>Transaction</th>\n",
        "      <th>Trade Value</th>\n",
        "      <th>Opening Price</th>\n",
        "      <th>Highest Price</th>\n",
        "      <th>Lowest Price</th>\n",
        "      <th>Closing Price</th>\n",
        "      <th>Dir(+/-)</th>\n",
        "      <th>Change</th>\n",
        "      <th>Last Best Bid Price</th>\n",
        "      <th>Last Best Bid Volume</th>\n",
        "      <th>Last Best Ask Price</th>\n",
        "      <th>Last Best Ask Volume</th>\n",
        "      <th>Price-Earning ratio</th>\n",
        "    </tr>\n",
        "  </thead>\n",
        "  <tbody>\n",
        "    <tr>\n",
        "      <th>0</th>\n",
        "      <td> =\"0050\"</td>\n",
        "      <td> 10,607,272</td>\n",
        "      <td> 2,111</td>\n",
        "      <td> 695,909,182</td>\n",
        "      <td> 65.30</td>\n",
        "      <td> 65.90</td>\n",
        "      <td> 65.30</td>\n",
        "      <td> 65.60</td>\n",
        "      <td> +</td>\n",
        "      <td> 0.30</td>\n",
        "      <td> 65.60</td>\n",
        "      <td> 85</td>\n",
        "      <td> 65.65</td>\n",
        "      <td> 66</td>\n",
        "      <td> 0.00</td>\n",
        "    </tr>\n",
        "    <tr>\n",
        "      <th>1</th>\n",
        "      <td> =\"0051\"</td>\n",
        "      <td>     49,212</td>\n",
        "      <td>    30</td>\n",
        "      <td>   1,443,002</td>\n",
        "      <td> 29.16</td>\n",
        "      <td> 29.43</td>\n",
        "      <td> 29.16</td>\n",
        "      <td> 29.35</td>\n",
        "      <td> +</td>\n",
        "      <td> 0.36</td>\n",
        "      <td> 29.35</td>\n",
        "      <td>  3</td>\n",
        "      <td> 29.43</td>\n",
        "      <td> 51</td>\n",
        "      <td> 0.00</td>\n",
        "    </tr>\n",
        "    <tr>\n",
        "      <th>2</th>\n",
        "      <td> =\"0052\"</td>\n",
        "      <td>      7,000</td>\n",
        "      <td>     5</td>\n",
        "      <td>     276,910</td>\n",
        "      <td> 39.51</td>\n",
        "      <td> 39.67</td>\n",
        "      <td> 39.51</td>\n",
        "      <td> 39.52</td>\n",
        "      <td> +</td>\n",
        "      <td> 0.75</td>\n",
        "      <td> 39.24</td>\n",
        "      <td> 19</td>\n",
        "      <td> 39.53</td>\n",
        "      <td> 14</td>\n",
        "      <td> 0.00</td>\n",
        "    </tr>\n",
        "    <tr>\n",
        "      <th>3</th>\n",
        "      <td> =\"0053\"</td>\n",
        "      <td>    106,000</td>\n",
        "      <td>     6</td>\n",
        "      <td>   3,060,570</td>\n",
        "      <td> 28.81</td>\n",
        "      <td> 28.90</td>\n",
        "      <td> 28.72</td>\n",
        "      <td> 28.72</td>\n",
        "      <td> +</td>\n",
        "      <td> 0.22</td>\n",
        "      <td> 28.51</td>\n",
        "      <td> 81</td>\n",
        "      <td> 28.87</td>\n",
        "      <td> 53</td>\n",
        "      <td> 0.00</td>\n",
        "    </tr>\n",
        "    <tr>\n",
        "      <th>4</th>\n",
        "      <td> =\"0054\"</td>\n",
        "      <td>     42,000</td>\n",
        "      <td>     4</td>\n",
        "      <td>     961,520</td>\n",
        "      <td> 22.81</td>\n",
        "      <td> 22.91</td>\n",
        "      <td> 22.81</td>\n",
        "      <td> 22.91</td>\n",
        "      <td> +</td>\n",
        "      <td> 0.23</td>\n",
        "      <td> 22.80</td>\n",
        "      <td>  1</td>\n",
        "      <td> 22.98</td>\n",
        "      <td> 54</td>\n",
        "      <td> 0.00</td>\n",
        "    </tr>\n",
        "  </tbody>\n",
        "</table>\n",
        "</div>"
       ],
       "metadata": {},
       "output_type": "pyout",
       "prompt_number": 18,
       "text": [
        "  Security Code Trade Volume Transaction  Trade Value Opening Price  \\\n",
        "0       =\"0050\"   10,607,272       2,111  695,909,182         65.30   \n",
        "1       =\"0051\"       49,212          30    1,443,002         29.16   \n",
        "2       =\"0052\"        7,000           5      276,910         39.51   \n",
        "3       =\"0053\"      106,000           6    3,060,570         28.81   \n",
        "4       =\"0054\"       42,000           4      961,520         22.81   \n",
        "\n",
        "  Highest Price Lowest Price Closing Price Dir(+/-) Change  \\\n",
        "0         65.90        65.30         65.60        +   0.30   \n",
        "1         29.43        29.16         29.35        +   0.36   \n",
        "2         39.67        39.51         39.52        +   0.75   \n",
        "3         28.90        28.72         28.72        +   0.22   \n",
        "4         22.91        22.81         22.91        +   0.23   \n",
        "\n",
        "  Last Best Bid Price Last Best Bid Volume Last Best Ask Price  \\\n",
        "0               65.60                   85               65.65   \n",
        "1               29.35                    3               29.43   \n",
        "2               39.24                   19               39.53   \n",
        "3               28.51                   81               28.87   \n",
        "4               22.80                    1               22.98   \n",
        "\n",
        "  Last Best Ask Volume Price-Earning ratio  \n",
        "0                   66                0.00  \n",
        "1                   51                0.00  \n",
        "2                   14                0.00  \n",
        "3                   53                0.00  \n",
        "4                   54                0.00  "
       ]
      }
     ],
     "prompt_number": 18
    },
    {
     "cell_type": "markdown",
     "metadata": {},
     "source": [
      "## Check the first value of column \"Trade Voulme\""
     ]
    },
    {
     "cell_type": "code",
     "collapsed": false,
     "input": [
      "df.loc[0, \"Trade Volume\"]"
     ],
     "language": "python",
     "metadata": {},
     "outputs": [
      {
       "metadata": {},
       "output_type": "pyout",
       "prompt_number": 19,
       "text": [
        "'10,607,272'"
       ]
      }
     ],
     "prompt_number": 19
    },
    {
     "cell_type": "markdown",
     "metadata": {},
     "source": [
      "## Using iteration of df's columns to replace some sign, like \"+\", \"--\"..."
     ]
    },
    {
     "cell_type": "code",
     "collapsed": false,
     "input": [
      "for colname in df.columns:\n",
      "    df[colname] = df[colname].map(lambda xx: xx.replace(\"=\", \"\").replace(\",\", \"\").replace('\"', \"\").replace(\"--\", \"\"))"
     ],
     "language": "python",
     "metadata": {},
     "outputs": [],
     "prompt_number": 20
    },
    {
     "cell_type": "code",
     "collapsed": false,
     "input": [
      "df.head()"
     ],
     "language": "python",
     "metadata": {},
     "outputs": [
      {
       "html": [
        "<div style=\"max-height:1000px;max-width:1500px;overflow:auto;\">\n",
        "<table border=\"1\" class=\"dataframe\">\n",
        "  <thead>\n",
        "    <tr style=\"text-align: right;\">\n",
        "      <th></th>\n",
        "      <th>Security Code</th>\n",
        "      <th>Trade Volume</th>\n",
        "      <th>Transaction</th>\n",
        "      <th>Trade Value</th>\n",
        "      <th>Opening Price</th>\n",
        "      <th>Highest Price</th>\n",
        "      <th>Lowest Price</th>\n",
        "      <th>Closing Price</th>\n",
        "      <th>Dir(+/-)</th>\n",
        "      <th>Change</th>\n",
        "      <th>Last Best Bid Price</th>\n",
        "      <th>Last Best Bid Volume</th>\n",
        "      <th>Last Best Ask Price</th>\n",
        "      <th>Last Best Ask Volume</th>\n",
        "      <th>Price-Earning ratio</th>\n",
        "    </tr>\n",
        "  </thead>\n",
        "  <tbody>\n",
        "    <tr>\n",
        "      <th>0</th>\n",
        "      <td> 0050</td>\n",
        "      <td> 10607272</td>\n",
        "      <td> 2111</td>\n",
        "      <td> 695909182</td>\n",
        "      <td> 65.30</td>\n",
        "      <td> 65.90</td>\n",
        "      <td> 65.30</td>\n",
        "      <td> 65.60</td>\n",
        "      <td> +</td>\n",
        "      <td> 0.30</td>\n",
        "      <td> 65.60</td>\n",
        "      <td> 85</td>\n",
        "      <td> 65.65</td>\n",
        "      <td> 66</td>\n",
        "      <td> 0.00</td>\n",
        "    </tr>\n",
        "    <tr>\n",
        "      <th>1</th>\n",
        "      <td> 0051</td>\n",
        "      <td>    49212</td>\n",
        "      <td>   30</td>\n",
        "      <td>   1443002</td>\n",
        "      <td> 29.16</td>\n",
        "      <td> 29.43</td>\n",
        "      <td> 29.16</td>\n",
        "      <td> 29.35</td>\n",
        "      <td> +</td>\n",
        "      <td> 0.36</td>\n",
        "      <td> 29.35</td>\n",
        "      <td>  3</td>\n",
        "      <td> 29.43</td>\n",
        "      <td> 51</td>\n",
        "      <td> 0.00</td>\n",
        "    </tr>\n",
        "    <tr>\n",
        "      <th>2</th>\n",
        "      <td> 0052</td>\n",
        "      <td>     7000</td>\n",
        "      <td>    5</td>\n",
        "      <td>    276910</td>\n",
        "      <td> 39.51</td>\n",
        "      <td> 39.67</td>\n",
        "      <td> 39.51</td>\n",
        "      <td> 39.52</td>\n",
        "      <td> +</td>\n",
        "      <td> 0.75</td>\n",
        "      <td> 39.24</td>\n",
        "      <td> 19</td>\n",
        "      <td> 39.53</td>\n",
        "      <td> 14</td>\n",
        "      <td> 0.00</td>\n",
        "    </tr>\n",
        "    <tr>\n",
        "      <th>3</th>\n",
        "      <td> 0053</td>\n",
        "      <td>   106000</td>\n",
        "      <td>    6</td>\n",
        "      <td>   3060570</td>\n",
        "      <td> 28.81</td>\n",
        "      <td> 28.90</td>\n",
        "      <td> 28.72</td>\n",
        "      <td> 28.72</td>\n",
        "      <td> +</td>\n",
        "      <td> 0.22</td>\n",
        "      <td> 28.51</td>\n",
        "      <td> 81</td>\n",
        "      <td> 28.87</td>\n",
        "      <td> 53</td>\n",
        "      <td> 0.00</td>\n",
        "    </tr>\n",
        "    <tr>\n",
        "      <th>4</th>\n",
        "      <td> 0054</td>\n",
        "      <td>    42000</td>\n",
        "      <td>    4</td>\n",
        "      <td>    961520</td>\n",
        "      <td> 22.81</td>\n",
        "      <td> 22.91</td>\n",
        "      <td> 22.81</td>\n",
        "      <td> 22.91</td>\n",
        "      <td> +</td>\n",
        "      <td> 0.23</td>\n",
        "      <td> 22.80</td>\n",
        "      <td>  1</td>\n",
        "      <td> 22.98</td>\n",
        "      <td> 54</td>\n",
        "      <td> 0.00</td>\n",
        "    </tr>\n",
        "  </tbody>\n",
        "</table>\n",
        "</div>"
       ],
       "metadata": {},
       "output_type": "pyout",
       "prompt_number": 21,
       "text": [
        "  Security Code Trade Volume Transaction Trade Value Opening Price  \\\n",
        "0          0050     10607272        2111   695909182         65.30   \n",
        "1          0051        49212          30     1443002         29.16   \n",
        "2          0052         7000           5      276910         39.51   \n",
        "3          0053       106000           6     3060570         28.81   \n",
        "4          0054        42000           4      961520         22.81   \n",
        "\n",
        "  Highest Price Lowest Price Closing Price Dir(+/-) Change  \\\n",
        "0         65.90        65.30         65.60        +   0.30   \n",
        "1         29.43        29.16         29.35        +   0.36   \n",
        "2         39.67        39.51         39.52        +   0.75   \n",
        "3         28.90        28.72         28.72        +   0.22   \n",
        "4         22.91        22.81         22.91        +   0.23   \n",
        "\n",
        "  Last Best Bid Price Last Best Bid Volume Last Best Ask Price  \\\n",
        "0               65.60                   85               65.65   \n",
        "1               29.35                    3               29.43   \n",
        "2               39.24                   19               39.53   \n",
        "3               28.51                   81               28.87   \n",
        "4               22.80                    1               22.98   \n",
        "\n",
        "  Last Best Ask Volume Price-Earning ratio  \n",
        "0                   66                0.00  \n",
        "1                   51                0.00  \n",
        "2                   14                0.00  \n",
        "3                   53                0.00  \n",
        "4                   54                0.00  "
       ]
      }
     ],
     "prompt_number": 21
    },
    {
     "cell_type": "markdown",
     "metadata": {},
     "source": [
      "## Catch data once again. Only for length over 5 item."
     ]
    },
    {
     "cell_type": "code",
     "collapsed": false,
     "input": [
      "len5_data = [one_row for one_row in rows_list if len(one_row) ==5]"
     ],
     "language": "python",
     "metadata": {},
     "outputs": [],
     "prompt_number": 22
    },
    {
     "cell_type": "code",
     "collapsed": false,
     "input": [
      "df = pd.DataFrame(len5_data[1:], columns=len5_data[0])\n",
      "df.head()"
     ],
     "language": "python",
     "metadata": {},
     "outputs": [
      {
       "html": [
        "<div style=\"max-height:1000px;max-width:1500px;overflow:auto;\">\n",
        "<table border=\"1\" class=\"dataframe\">\n",
        "  <thead>\n",
        "    <tr style=\"text-align: right;\">\n",
        "      <th></th>\n",
        "      <th>Index</th>\n",
        "      <th>Closing Index</th>\n",
        "      <th>Dir(+/-)</th>\n",
        "      <th>Change</th>\n",
        "      <th>Change(%)</th>\n",
        "    </tr>\n",
        "  </thead>\n",
        "  <tbody>\n",
        "    <tr>\n",
        "      <th>0</th>\n",
        "      <td>                      Formosa Index</td>\n",
        "      <td> 10,424.88</td>\n",
        "      <td> +</td>\n",
        "      <td> 44.71</td>\n",
        "      <td> 0.43</td>\n",
        "    </tr>\n",
        "    <tr>\n",
        "      <th>1</th>\n",
        "      <td>                              TAIEX</td>\n",
        "      <td>  9,004.86</td>\n",
        "      <td> +</td>\n",
        "      <td> 30.10</td>\n",
        "      <td> 0.34</td>\n",
        "    </tr>\n",
        "    <tr>\n",
        "      <th>2</th>\n",
        "      <td>          FTSE TWSE Taiwan 50 Index</td>\n",
        "      <td>  6,572.20</td>\n",
        "      <td> +</td>\n",
        "      <td> 25.44</td>\n",
        "      <td> 0.39</td>\n",
        "    </tr>\n",
        "    <tr>\n",
        "      <th>3</th>\n",
        "      <td> FTSE TWSE Taiwan Mid-Cap 100 Index</td>\n",
        "      <td>  7,129.20</td>\n",
        "      <td> +</td>\n",
        "      <td> 29.95</td>\n",
        "      <td> 0.42</td>\n",
        "    </tr>\n",
        "    <tr>\n",
        "      <th>4</th>\n",
        "      <td>  FTSE TWSE Taiwan Technology Index</td>\n",
        "      <td>  7,621.46</td>\n",
        "      <td> +</td>\n",
        "      <td> 39.68</td>\n",
        "      <td> 0.52</td>\n",
        "    </tr>\n",
        "  </tbody>\n",
        "</table>\n",
        "</div>"
       ],
       "metadata": {},
       "output_type": "pyout",
       "prompt_number": 23,
       "text": [
        "                                Index Closing Index Dir(+/-) Change Change(%)\n",
        "0                       Formosa Index     10,424.88        +  44.71      0.43\n",
        "1                               TAIEX      9,004.86        +  30.10      0.34\n",
        "2           FTSE TWSE Taiwan 50 Index      6,572.20        +  25.44      0.39\n",
        "3  FTSE TWSE Taiwan Mid-Cap 100 Index      7,129.20        +  29.95      0.42\n",
        "4   FTSE TWSE Taiwan Technology Index      7,621.46        +  39.68      0.52"
       ]
      }
     ],
     "prompt_number": 23
    },
    {
     "cell_type": "markdown",
     "metadata": {},
     "source": [
      "## Catch data once again. Only for length over 4 item."
     ]
    },
    {
     "cell_type": "code",
     "collapsed": false,
     "input": [
      "len4_data = [one_row for one_row in rows_list if len(one_row) ==4]"
     ],
     "language": "python",
     "metadata": {},
     "outputs": [],
     "prompt_number": 24
    },
    {
     "cell_type": "code",
     "collapsed": false,
     "input": [
      "df = pd.DataFrame(len4_data[1:], columns=len4_data[0])\n",
      "df.head()"
     ],
     "language": "python",
     "metadata": {},
     "outputs": [
      {
       "html": [
        "<div style=\"max-height:1000px;max-width:1500px;overflow:auto;\">\n",
        "<table border=\"1\" class=\"dataframe\">\n",
        "  <thead>\n",
        "    <tr style=\"text-align: right;\">\n",
        "      <th></th>\n",
        "      <th>Summary</th>\n",
        "      <th>Trade Value (NT$)</th>\n",
        "      <th>Trade Volume (share)</th>\n",
        "      <th>Transaction</th>\n",
        "    </tr>\n",
        "  </thead>\n",
        "  <tbody>\n",
        "    <tr>\n",
        "      <th>0</th>\n",
        "      <td>                   1.Stock</td>\n",
        "      <td> 84,853,456,459</td>\n",
        "      <td> 2,099,155,416</td>\n",
        "      <td> 743,436</td>\n",
        "    </tr>\n",
        "    <tr>\n",
        "      <th>1</th>\n",
        "      <td>                     2.TDR</td>\n",
        "      <td>     31,930,021</td>\n",
        "      <td>     5,707,290</td>\n",
        "      <td>   1,201</td>\n",
        "    </tr>\n",
        "    <tr>\n",
        "      <th>2</th>\n",
        "      <td> 3.Beneficiary Certificate</td>\n",
        "      <td>              0</td>\n",
        "      <td>             0</td>\n",
        "      <td>       0</td>\n",
        "    </tr>\n",
        "    <tr>\n",
        "      <th>3</th>\n",
        "      <td>                     4.ETF</td>\n",
        "      <td>  1,916,594,417</td>\n",
        "      <td>    78,823,874</td>\n",
        "      <td>  11,235</td>\n",
        "    </tr>\n",
        "    <tr>\n",
        "      <th>4</th>\n",
        "      <td>   5.Beneficial Securities</td>\n",
        "      <td>     31,046,200</td>\n",
        "      <td>     1,781,000</td>\n",
        "      <td>     262</td>\n",
        "    </tr>\n",
        "  </tbody>\n",
        "</table>\n",
        "</div>"
       ],
       "metadata": {},
       "output_type": "pyout",
       "prompt_number": 25,
       "text": [
        "                     Summary Trade Value (NT$) Trade Volume (share)  \\\n",
        "0                    1.Stock    84,853,456,459        2,099,155,416   \n",
        "1                      2.TDR        31,930,021            5,707,290   \n",
        "2  3.Beneficiary Certificate                 0                    0   \n",
        "3                      4.ETF     1,916,594,417           78,823,874   \n",
        "4    5.Beneficial Securities        31,046,200            1,781,000   \n",
        "\n",
        "  Transaction  \n",
        "0     743,436  \n",
        "1       1,201  \n",
        "2           0  \n",
        "3      11,235  \n",
        "4         262  "
       ]
      }
     ],
     "prompt_number": 25
    },
    {
     "cell_type": "markdown",
     "metadata": {},
     "source": [
      "## Catch data once again. Only for length over 3 item."
     ]
    },
    {
     "cell_type": "code",
     "collapsed": false,
     "input": [
      "len3_data = [one_row for one_row in rows_list if len(one_row) ==3]\n",
      "df = pd.DataFrame(len3_data[1:], columns=len3_data[0])\n",
      "df.head()"
     ],
     "language": "python",
     "metadata": {},
     "outputs": [
      {
       "html": [
        "<div style=\"max-height:1000px;max-width:1500px;overflow:auto;\">\n",
        "<table border=\"1\" class=\"dataframe\">\n",
        "  <thead>\n",
        "    <tr style=\"text-align: right;\">\n",
        "      <th></th>\n",
        "      <th>Type</th>\n",
        "      <th>Overall Market</th>\n",
        "      <th>Stocks</th>\n",
        "    </tr>\n",
        "  </thead>\n",
        "  <tbody>\n",
        "    <tr>\n",
        "      <th>0</th>\n",
        "      <td>     Up (Limit Up)</td>\n",
        "      <td> 3,509(16)</td>\n",
        "      <td> 497(16)</td>\n",
        "    </tr>\n",
        "    <tr>\n",
        "      <th>1</th>\n",
        "      <td> Down (Limit Down)</td>\n",
        "      <td> 2,417(45)</td>\n",
        "      <td>  268(1)</td>\n",
        "    </tr>\n",
        "    <tr>\n",
        "      <th>2</th>\n",
        "      <td>         Unchanged</td>\n",
        "      <td>       438</td>\n",
        "      <td>      72</td>\n",
        "    </tr>\n",
        "    <tr>\n",
        "      <th>3</th>\n",
        "      <td>         Unmatched</td>\n",
        "      <td>     3,663</td>\n",
        "      <td>       2</td>\n",
        "    </tr>\n",
        "    <tr>\n",
        "      <th>4</th>\n",
        "      <td>               N/A</td>\n",
        "      <td>     1,151</td>\n",
        "      <td>       7</td>\n",
        "    </tr>\n",
        "  </tbody>\n",
        "</table>\n",
        "</div>"
       ],
       "metadata": {},
       "output_type": "pyout",
       "prompt_number": 26,
       "text": [
        "                Type Overall Market   Stocks\n",
        "0      Up (Limit Up)      3,509(16)  497(16)\n",
        "1  Down (Limit Down)      2,417(45)   268(1)\n",
        "2          Unchanged            438       72\n",
        "3          Unmatched          3,663        2\n",
        "4                N/A          1,151        7"
       ]
      }
     ],
     "prompt_number": 26
    },
    {
     "cell_type": "markdown",
     "metadata": {},
     "source": [
      "## Catch data once again. Only for length over 2 item."
     ]
    },
    {
     "cell_type": "code",
     "collapsed": false,
     "input": [
      "len2_data = [one_row for one_row in rows_list if len(one_row) ==2]\n",
      "df = pd.DataFrame(len2_data[1:], columns=len2_data[0])\n",
      "df.head()"
     ],
     "language": "python",
     "metadata": {},
     "outputs": [
      {
       "html": [
        "<div style=\"max-height:1000px;max-width:1500px;overflow:auto;\">\n",
        "<table border=\"1\" class=\"dataframe\">\n",
        "  <thead>\n",
        "    <tr style=\"text-align: right;\">\n",
        "      <th></th>\n",
        "      <th>Note:</th>\n",
        "      <th>The movement between today`s closing price and the previous day's closing price will be disclosed in &amp;quot;Change&amp;quot; column.If the security goes ex-dividend, or ex-right, or is a new listing or resumes trading it will be marked as &amp;quot;N/A&amp;quot;.</th>\n",
        "    </tr>\n",
        "  </thead>\n",
        "  <tbody>\n",
        "    <tr>\n",
        "      <th>0</th>\n",
        "      <td> 2014/11/03(NT$,share)</td>\n",
        "      <td> (NT$,Trading Unit)</td>\n",
        "    </tr>\n",
        "  </tbody>\n",
        "</table>\n",
        "</div>"
       ],
       "metadata": {},
       "output_type": "pyout",
       "prompt_number": 27,
       "text": [
        "                   Note:  \\\n",
        "0  2014/11/03(NT$,share)   \n",
        "\n",
        "  The movement between today`s closing price and the previous day's closing price will be disclosed in &quot;Change&quot; column.If the security goes ex-dividend, or ex-right, or is a new listing or resumes trading it will be marked as &quot;N/A&quot;.  \n",
        "0                                 (NT$,Trading Unit)                                                                                                                                                                                                          "
       ]
      }
     ],
     "prompt_number": 27
    },
    {
     "cell_type": "markdown",
     "metadata": {},
     "source": [
      "## Catch data once again. Only for length over 1 item."
     ]
    },
    {
     "cell_type": "code",
     "collapsed": false,
     "input": [
      "len1_data = [one_row for one_row in rows_list if len(one_row) ==1]\n",
      "df = pd.DataFrame(len1_data[1:], columns=len1_data[0])\n",
      "df.head()"
     ],
     "language": "python",
     "metadata": {},
     "outputs": [
      {
       "html": [
        "<div style=\"max-height:1000px;max-width:1500px;overflow:auto;\">\n",
        "<table border=\"1\" class=\"dataframe\">\n",
        "  <thead>\n",
        "    <tr style=\"text-align: right;\">\n",
        "      <th></th>\n",
        "      <th>2014/11/03 Market Summary</th>\n",
        "    </tr>\n",
        "  </thead>\n",
        "  <tbody>\n",
        "    <tr>\n",
        "      <th>0</th>\n",
        "      <td> Net Change of Price (Number of Listed Securities)</td>\n",
        "    </tr>\n",
        "    <tr>\n",
        "      <th>1</th>\n",
        "      <td> Remarks:                        . Symbols for ...</td>\n",
        "    </tr>\n",
        "    <tr>\n",
        "      <th>2</th>\n",
        "      <td> Symbol for Direction:[+/Rise][-/Decline][X/No ...</td>\n",
        "    </tr>\n",
        "    <tr>\n",
        "      <th>3</th>\n",
        "      <td> Remarks:Excludes securities auction by consign...</td>\n",
        "    </tr>\n",
        "  </tbody>\n",
        "</table>\n",
        "</div>"
       ],
       "metadata": {},
       "output_type": "pyout",
       "prompt_number": 28,
       "text": [
        "                           2014/11/03 Market Summary\n",
        "0  Net Change of Price (Number of Listed Securities)\n",
        "1  Remarks:                        . Symbols for ...\n",
        "2  Symbol for Direction:[+/Rise][-/Decline][X/No ...\n",
        "3  Remarks:Excludes securities auction by consign..."
       ]
      }
     ],
     "prompt_number": 28
    },
    {
     "cell_type": "markdown",
     "metadata": {},
     "source": [
      "## Finally, we deconstruct the csv data."
     ]
    }
   ],
   "metadata": {}
  }
 ]
}